{
 "cells": [
  {
   "cell_type": "markdown",
   "id": "46261de7-4fac-4f8b-a771-f2035a9b8a3e",
   "metadata": {},
   "source": [
    "# Bevezetés\n",
    "Ebben a fájlban fogom az adatokat elemezni, a dataframe oszlopait egyesével átnézni, hogy milyen adatokkal is dolgozom\n",
    "A feladat írása során a ChatGPT-t használtam a debuggolás segítésében."
   ]
  },
  {
   "cell_type": "code",
   "execution_count": 2,
   "id": "71082408-b30c-472c-a159-a5692e73a852",
   "metadata": {},
   "outputs": [],
   "source": [
    "# !pip install matplotlib\n",
    "# !pip install langdetect\n",
    "# !pip install iso-639"
   ]
  },
  {
   "cell_type": "code",
   "execution_count": 3,
   "id": "feed9cdb",
   "metadata": {},
   "outputs": [],
   "source": [
    "import numpy as np\n",
    "import pandas as pd\n",
    "import math\n",
    "from matplotlib import pyplot as plt\n",
    "from iso639 import languages\n",
    "from langdetect import detect\n",
    "import re"
   ]
  },
  {
   "cell_type": "code",
   "execution_count": 4,
   "id": "9bf039a8",
   "metadata": {},
   "outputs": [],
   "source": [
    "df = pd.read_csv('data/TMDB_tv_dataset_v3.csv')"
   ]
  },
  {
   "cell_type": "markdown",
   "id": "445f9ead-de4a-41c0-9fce-6b80a270deb6",
   "metadata": {},
   "source": [
    "A következő függvényt azoknak az oszlopoknak a feldolgozására készítettem, melyekben több adat is volt vesszővel vagy &-sel elválasztva. Ebben a függvényben az elválasztók mellett szétválasztom az adatokat és egyesével megszámolom az előfordulásukat"
   ]
  },
  {
   "cell_type": "code",
   "execution_count": 96,
   "id": "ba6d0b7e-c4b4-4550-9c65-5fa3f7f40e47",
   "metadata": {},
   "outputs": [],
   "source": [
    "def unique_vals(df, col):\n",
    "    df = df[df[col].apply(lambda x: isinstance(x, str))].copy()\n",
    "    \n",
    "    df['col_split'] = df[col].apply(lambda x: [s.strip() for s in re.split(',|&', x)])\n",
    "    \n",
    "    unique_values = set(x for sublist in df['col_split'] for x in sublist)\n",
    "\n",
    "    unique_values= list(unique_values)\n",
    "    \n",
    "    count_df={}\n",
    "    \n",
    "    for index, row in df.iterrows():\n",
    "        for item in row['col_split']:\n",
    "            if item not in count_df:\n",
    "                count_df[item] = 0\n",
    "            count_df[item] += 1\n",
    "\n",
    "    sorted_count = dict(sorted(count_df.items(), key=lambda item: item[1], reverse=True))\n",
    "\n",
    "    i=0\n",
    "    \n",
    "    for key, value in sorted_count.items():\n",
    "        print(f'{key}: {value}')\n",
    "        i+=1\n",
    "        if (i==10):\n",
    "            break\n",
    "    \n",
    "    return 0"
   ]
  },
  {
   "cell_type": "markdown",
   "id": "c3fbeaea",
   "metadata": {},
   "source": [
    "# EDA"
   ]
  },
  {
   "cell_type": "code",
   "execution_count": 6,
   "id": "59771837",
   "metadata": {},
   "outputs": [
    {
     "data": {
      "text/plain": [
       "id                           0\n",
       "name                         5\n",
       "number_of_seasons            0\n",
       "number_of_episodes           0\n",
       "original_language            0\n",
       "vote_count                   0\n",
       "vote_average                 0\n",
       "overview                 73323\n",
       "adult                        0\n",
       "backdrop_path            88798\n",
       "first_air_date           31347\n",
       "last_air_date            29498\n",
       "homepage                115110\n",
       "in_production                0\n",
       "original_name                5\n",
       "popularity                   0\n",
       "poster_path              58786\n",
       "type                         0\n",
       "status                       0\n",
       "tagline                 160262\n",
       "genres                   67208\n",
       "created_by              129558\n",
       "languages                57051\n",
       "networks                 69048\n",
       "origin_country           31023\n",
       "spoken_languages         57798\n",
       "production_companies    107039\n",
       "production_countries     89170\n",
       "episode_run_time             0\n",
       "dtype: int64"
      ]
     },
     "execution_count": 6,
     "metadata": {},
     "output_type": "execute_result"
    }
   ],
   "source": [
    "df.isna().sum()"
   ]
  },
  {
   "cell_type": "markdown",
   "id": "1619e3d9",
   "metadata": {},
   "source": [
    "## id"
   ]
  },
  {
   "cell_type": "markdown",
   "id": "3dafbc85",
   "metadata": {
    "jp-MarkdownHeadingCollapsed": true
   },
   "source": [
    "## name"
   ]
  },
  {
   "cell_type": "markdown",
   "id": "0cf29172-adc7-417f-894b-daebe2d6b271",
   "metadata": {},
   "source": [
    "Volt 5 darab adatom amely névvel nem rendelkezett. Mivel az adatbázis nagy, így ezeket az oszlopokat rögtön töröltem"
   ]
  },
  {
   "cell_type": "code",
   "execution_count": 7,
   "id": "891efc58",
   "metadata": {},
   "outputs": [],
   "source": [
    "df=df.dropna(subset='name')"
   ]
  },
  {
   "cell_type": "code",
   "execution_count": 8,
   "id": "253c27fc-6a88-4ce8-910b-cfa2745c4c06",
   "metadata": {},
   "outputs": [
    {
     "data": {
      "text/plain": [
       "id                           0\n",
       "name                         0\n",
       "number_of_seasons            0\n",
       "number_of_episodes           0\n",
       "original_language            0\n",
       "vote_count                   0\n",
       "vote_average                 0\n",
       "overview                 73318\n",
       "adult                        0\n",
       "backdrop_path            88793\n",
       "first_air_date           31345\n",
       "last_air_date            29497\n",
       "homepage                115105\n",
       "in_production                0\n",
       "original_name                0\n",
       "popularity                   0\n",
       "poster_path              58781\n",
       "type                         0\n",
       "status                       0\n",
       "tagline                 160257\n",
       "genres                   67203\n",
       "created_by              129553\n",
       "languages                57046\n",
       "networks                 69043\n",
       "origin_country           31018\n",
       "spoken_languages         57793\n",
       "production_companies    107034\n",
       "production_countries     89165\n",
       "episode_run_time             0\n",
       "dtype: int64"
      ]
     },
     "execution_count": 8,
     "metadata": {},
     "output_type": "execute_result"
    }
   ],
   "source": [
    "df.isna().sum()"
   ]
  },
  {
   "cell_type": "markdown",
   "id": "86a7c01b",
   "metadata": {},
   "source": [
    "## number_of_seasons"
   ]
  },
  {
   "cell_type": "markdown",
   "id": "39e5d879-652e-4d01-9d30-934a76e1fd16",
   "metadata": {},
   "source": [
    "Az évadok számosságánál megfigyelhetjük hogy a sorozatok túlnyomó része nem éri el az 50 évadot. Nem igazán meglepő adat, hiszen egy évad általában legalább évnyi filmes munkát jelent, és kevés 50 évnél idősebb sorozat létezik (de persze hogy a kivétel erősítse a szabályt, ott van a Doctor Who)"
   ]
  },
  {
   "cell_type": "code",
   "execution_count": 111,
   "id": "d1c630a3-68df-4a30-ac38-8492bb98dc03",
   "metadata": {},
   "outputs": [
    {
     "data": {
      "text/plain": [
       "<Axes: >"
      ]
     },
     "execution_count": 111,
     "metadata": {},
     "output_type": "execute_result"
    },
    {
     "data": {
      "image/png": "[encoded data removed]",
      "text/plain": [
       "<Figure size 640x480 with 1 Axes>"
      ]
     },
     "metadata": {},
     "output_type": "display_data"
    }
   ],
   "source": [
    "df['number_of_seasons'].hist(bins=100, log=True)"
   ]
  },
  {
   "cell_type": "markdown",
   "id": "d8e6dfb2",
   "metadata": {},
   "source": [
    "## number_of_episodes"
   ]
  },
  {
   "cell_type": "markdown",
   "id": "9378c498-28b1-428d-b86b-361c24aef724",
   "metadata": {},
   "source": [
    "Az epizód számoknál is megfigyelhetjük, hogy a sorozatok többsége kevesebb mint 5000 résszel rendelkezik."
   ]
  },
  {
   "cell_type": "code",
   "execution_count": 112,
   "id": "f2025caa-ae9b-4b24-8ddb-aa783adf1626",
   "metadata": {},
   "outputs": [
    {
     "data": {
      "text/plain": [
       "<Axes: >"
      ]
     },
     "execution_count": 112,
     "metadata": {},
     "output_type": "execute_result"
    },
    {
     "data": {
      "image/png": "[encoded data removed]",
      "text/plain": [
       "<Figure size 640x480 with 1 Axes>"
      ]
     },
     "metadata": {},
     "output_type": "display_data"
    }
   ],
   "source": [
    "df['number_of_episodes'].hist(bins=100, log=True)"
   ]
  },
  {
   "cell_type": "markdown",
   "id": "73bac4ab-e64d-4ac7-815e-ddd42f06b604",
   "metadata": {},
   "source": [
    "Ha már ismerjük mind az évadok és az epizódok számát, érdekes adat például hogy átlagosan hány rész található egy évadban"
   ]
  },
  {
   "cell_type": "code",
   "execution_count": 113,
   "id": "a1d72916-5008-4d1f-809d-42c926faad15",
   "metadata": {},
   "outputs": [
    {
     "data": {
      "text/plain": [
       "15.919771976964386"
      ]
     },
     "execution_count": 113,
     "metadata": {},
     "output_type": "execute_result"
    }
   ],
   "source": [
    "df['number_of_episodes'].sum()/df['number_of_seasons'].sum()"
   ]
  },
  {
   "cell_type": "markdown",
   "id": "a0ae6254",
   "metadata": {},
   "source": [
    "## original_language"
   ]
  },
  {
   "cell_type": "markdown",
   "id": "14ca458b-d22c-41b2-8d29-82c473c90d9b",
   "metadata": {},
   "source": [
    "Az original_language-nél kipróbáltam  a *iso639* könyvtárban található dictionary-t hogy meg tudjam hogy a nyelvek jelölései mit jelentenek. Ezek után megnéztem hogy az egyes nyelvek milyen gyakorisággal léteznek"
   ]
  },
  {
   "cell_type": "code",
   "execution_count": 10,
   "id": "65cb1f08-8a79-4d97-bf99-c8370cacc9d9",
   "metadata": {},
   "outputs": [],
   "source": [
    "def get_language_name(language_code):\n",
    "    try:\n",
    "        return languages.get(part1=language_code).name\n",
    "    except (KeyError, AttributeError):\n",
    "        return \"Unknown\"  # Vagy tetszőleges érték, amit szeretnél az ismeretlen nyelv esetén"
   ]
  },
  {
   "cell_type": "code",
   "execution_count": 11,
   "id": "605a32ac-7b3e-4318-a5e9-e81c624d4d7d",
   "metadata": {},
   "outputs": [],
   "source": [
    "df['OG_language'] = df['original_language'].apply(lambda x: get_language_name(x))"
   ]
  },
  {
   "cell_type": "code",
   "execution_count": 12,
   "id": "f364531a-ca28-4b62-859f-ddd40c1780bc",
   "metadata": {},
   "outputs": [
    {
     "data": {
      "text/plain": [
       "1922"
      ]
     },
     "execution_count": 12,
     "metadata": {},
     "output_type": "execute_result"
    }
   ],
   "source": [
    "len(df[df['OG_language']=='Unknown'])"
   ]
  },
  {
   "cell_type": "code",
   "execution_count": 13,
   "id": "f6c0ba96-6e2b-401c-a062-16958eafcd53",
   "metadata": {},
   "outputs": [],
   "source": [
    "df=df.drop('original_language', axis=1)"
   ]
  },
  {
   "cell_type": "markdown",
   "id": "3aa79c85-63d0-4710-89ac-22e34ec30bb1",
   "metadata": {},
   "source": [
    "Bár, az angol a legismertebb nyelv, mégis meglepő, hogy mennyire vezet ebben az adatbázisban, ahhoz képest, hogy a földön nem az angol a legtöbbek által használt nyelv, mint anyanyelv. Megértem az előnyét, de a mértéke igazán meglepő számomra, de ez talán abból is fakadhat, hogy az adatbázis angol nyelvterületről eredendő"
   ]
  },
  {
   "cell_type": "code",
   "execution_count": 28,
   "id": "55b89fd6-c8eb-4315-8b34-269f5214c7c3",
   "metadata": {},
   "outputs": [
    {
     "data": {
      "text/plain": [
       "OG_language\n",
       "English                    75644\n",
       "Japanese                   13850\n",
       "Chinese                    13545\n",
       "Korean                      7725\n",
       "German                      7454\n",
       "                           ...  \n",
       "Swahili (macrolanguage)        1\n",
       "Southern Sotho                 1\n",
       "Northern Sami                  1\n",
       "Mongolian                      1\n",
       "Afar                           1\n",
       "Name: count, Length: 103, dtype: int64"
      ]
     },
     "execution_count": 28,
     "metadata": {},
     "output_type": "execute_result"
    }
   ],
   "source": [
    "df['OG_language'].value_counts()"
   ]
  },
  {
   "cell_type": "code",
   "execution_count": 19,
   "id": "f1b7c9dc-37c7-469e-bc25-324c0c55835a",
   "metadata": {},
   "outputs": [],
   "source": []
  },
  {
   "cell_type": "markdown",
   "id": "67b35287",
   "metadata": {},
   "source": [
    "## vote_count"
   ]
  },
  {
   "cell_type": "markdown",
   "id": "9d82e816-df75-4ef9-9cf7-78a48cac0d09",
   "metadata": {},
   "source": [
    "A vote_countnál igazából az egyetlen meglepő tény számomra az volt, hogy sokkal több olyan filmre számítottam, ahol szavazatok száma meghaladja a 10000-et."
   ]
  },
  {
   "cell_type": "code",
   "execution_count": 39,
   "id": "158b8676-11bd-471c-af93-b36b7352e1cb",
   "metadata": {},
   "outputs": [
    {
     "data": {
      "text/plain": [
       "<Axes: >"
      ]
     },
     "execution_count": 39,
     "metadata": {},
     "output_type": "execute_result"
    },
    {
     "data": {
      "image/png": "[encoded data removed]",
      "text/plain": [
       "<Figure size 640x480 with 1 Axes>"
      ]
     },
     "metadata": {},
     "output_type": "display_data"
    }
   ],
   "source": [
    "df['vote_count'].hist(bins=100, log=True)"
   ]
  },
  {
   "cell_type": "code",
   "execution_count": 42,
   "id": "8d6aaebe-69cd-44c9-a8bc-a77682e68b4c",
   "metadata": {},
   "outputs": [
    {
     "data": {
      "text/plain": [
       "13.550560236779319"
      ]
     },
     "execution_count": 42,
     "metadata": {},
     "output_type": "execute_result"
    }
   ],
   "source": [
    "df['vote_count'].mean()"
   ]
  },
  {
   "cell_type": "code",
   "execution_count": 41,
   "id": "9e2ce41c-7bbc-4671-9778-a47f16aae6d8",
   "metadata": {},
   "outputs": [],
   "source": [
    "df_2=df[df['OG_language']=='English']"
   ]
  },
  {
   "cell_type": "code",
   "execution_count": 44,
   "id": "19fe2221-4c21-4f2c-8c20-ccbf5c4489fa",
   "metadata": {},
   "outputs": [
    {
     "data": {
      "text/plain": [
       "20.39664745386283"
      ]
     },
     "execution_count": 44,
     "metadata": {},
     "output_type": "execute_result"
    }
   ],
   "source": [
    "df_2['vote_count'].mean()"
   ]
  },
  {
   "cell_type": "markdown",
   "id": "28d99a40",
   "metadata": {},
   "source": [
    "## vote_average"
   ]
  },
  {
   "cell_type": "markdown",
   "id": "30665a77-7423-4c53-867f-cd361c9ca9d9",
   "metadata": {},
   "source": [
    "A vote_average-nél igyekeztem megnézni hogy melyik nyelvű filmek kapták a legjobb értékeléseket. Persze, néhány nyelvet ki kellett zárnom, hiszen kevés adattal rendelkeztek és végül alább található a top 10 nyelv"
   ]
  },
  {
   "cell_type": "code",
   "execution_count": 45,
   "id": "88beff6e-9c56-434d-9a9d-64bc96e503bc",
   "metadata": {},
   "outputs": [],
   "source": [
    "vote_mean= []\n",
    "\n",
    "cols= df['OG_language'].unique()"
   ]
  },
  {
   "cell_type": "code",
   "execution_count": 49,
   "id": "4a447b71-22e8-467f-b28f-b819d742cf03",
   "metadata": {},
   "outputs": [
    {
     "data": {
      "text/plain": [
       "array(['English', 'Spanish', 'Korean', 'Japanese', 'German', 'French',\n",
       "       'Turkish', 'Portuguese', 'Danish', 'Catalan', 'Swedish',\n",
       "       'Norwegian', 'Thai', 'Italian', 'Chinese', 'Arabic', 'Russian',\n",
       "       'Icelandic', 'Tagalog', 'Hebrew', 'Polish', 'Dutch', 'Hindi',\n",
       "       'Finnish', 'Luxembourgish', 'Welsh', 'Galician', 'Ukrainian',\n",
       "       'Hungarian', 'Czech', 'Latin', 'Romanian', 'Bulgarian', 'Unknown',\n",
       "       'Modern Greek (1453-)', 'Vietnamese', 'Tamil', 'Serbian',\n",
       "       'Croatian', 'Persian', 'Zulu', 'Bengali', 'Indonesian',\n",
       "       'Malay (macrolanguage)', 'Slovak', 'Urdu', 'Telugu', 'Afrikaans',\n",
       "       'Kannada', 'Sinhala', 'Malayalam', 'Bosnian', 'Irish', 'Estonian',\n",
       "       'Abkhazian', 'Amharic', 'Albanian', 'Georgian', 'Norwegian Bokmål',\n",
       "       'Azerbaijani', 'Kurdish', 'Latvian', 'Lithuanian', 'Basque',\n",
       "       'Marathi', 'Slovenian', 'Herero', 'Central Khmer', 'Maori',\n",
       "       'Nepali (macrolanguage)', 'Kazakh', 'Assamese', 'Mongolian',\n",
       "       'Belarusian', 'Northern Sami', 'Gujarati', 'Panjabi', 'Macedonian',\n",
       "       'Maltese', 'Javanese', 'Oriya (macrolanguage)', 'Southern Sotho',\n",
       "       'Swahili (macrolanguage)', 'Tigrinya', 'Burmese', 'Somali',\n",
       "       'Western Frisian', 'Armenian', 'Zhuang', 'Uzbek', 'Romansh',\n",
       "       'Avaric', 'Uighur', 'Scottish Gaelic', 'Hiri Motu', 'Esperanto',\n",
       "       'Komi', 'Dhivehi', 'Lingala', 'Haitian', 'Lao', 'Pushto', 'Afar'],\n",
       "      dtype=object)"
      ]
     },
     "execution_count": 49,
     "metadata": {},
     "output_type": "execute_result"
    }
   ],
   "source": [
    "cols"
   ]
  },
  {
   "cell_type": "code",
   "execution_count": 68,
   "id": "cce6c39d-0aa7-416c-83b5-77640519f396",
   "metadata": {},
   "outputs": [],
   "source": [
    "avg_dict={}\n",
    "\n",
    "for lang in cols:\n",
    "    df_temp=(df[df['OG_language']==lang])\n",
    "    average=df_temp['vote_average'].mean()\n",
    "    if df_temp['vote_count'].sum()>1000:\n",
    "        avg_dict[lang]=average\n",
    "\n",
    "top_10 = sorted(avg_dict, key=avg_dict.get, reverse=True)[:10]"
   ]
  },
  {
   "cell_type": "code",
   "execution_count": 69,
   "id": "d78563d0-e6a1-4daa-97e2-583dc0afd029",
   "metadata": {},
   "outputs": [
    {
     "name": "stdout",
     "output_type": "stream",
     "text": [
      "Turkish: 3.9487997691863823\n",
      "Japanese: 3.742375451263538\n",
      "Modern Greek (1453-): 3.373954292084727\n",
      "Italian: 3.216095950155763\n",
      "Hindi: 3.1975522682445763\n",
      "Spanish: 3.101206684733514\n",
      "Russian: 3.0732121426050125\n",
      "Swedish: 2.850844055944056\n",
      "Thai: 2.631389689578714\n",
      "Danish: 2.562896012115093\n"
     ]
    }
   ],
   "source": [
    "for key in top_10:\n",
    "    value = avg_dict[key]\n",
    "    print(f\"{key}: {value}\")"
   ]
  },
  {
   "cell_type": "markdown",
   "id": "93bf2a31-127e-4b76-a875-47c93d98a98e",
   "metadata": {},
   "source": [
    "Őszintén meglepett a nyelvek listája, hiszen az Angol nem is szerepel rajta. Remélem ebben valahogyan majd összefüggésre lelek"
   ]
  },
  {
   "cell_type": "markdown",
   "id": "a9518a1e",
   "metadata": {},
   "source": [
    "## overview"
   ]
  },
  {
   "cell_type": "markdown",
   "id": "5c93b92e-2404-49b2-b2a9-7bacbcc30d1a",
   "metadata": {},
   "source": [
    "Az overview tartalma nem fog érdekelni minket, maximum, hogy volt-e."
   ]
  },
  {
   "cell_type": "code",
   "execution_count": 70,
   "id": "cc0e5f3d-fb4d-400a-9a35-c91ef214f9b3",
   "metadata": {},
   "outputs": [],
   "source": [
    "df['has_overview']=df['overview'].apply(lambda x: 0 if pd.isna(x) else 1)"
   ]
  },
  {
   "cell_type": "code",
   "execution_count": 71,
   "id": "97fdc82e-5303-439e-9acc-15821b15b2b4",
   "metadata": {},
   "outputs": [
    {
     "data": {
      "text/plain": [
       "has_overview\n",
       "1    92237\n",
       "0    73318\n",
       "Name: count, dtype: int64"
      ]
     },
     "execution_count": 71,
     "metadata": {},
     "output_type": "execute_result"
    }
   ],
   "source": [
    "df['has_overview'].value_counts()"
   ]
  },
  {
   "cell_type": "markdown",
   "id": "04daa4b7-af04-4385-a312-93cf268257ba",
   "metadata": {},
   "source": [
    "## adult"
   ]
  },
  {
   "cell_type": "markdown",
   "id": "d5118169-e0da-47a2-87c9-ea4440cb5698",
   "metadata": {},
   "source": [
    "Az, hogy a film felnőtttartalmú-e azt szintén egy flag-gé alakítottam"
   ]
  },
  {
   "cell_type": "code",
   "execution_count": 16,
   "id": "96c68403-c194-48f4-b74f-24f71810563f",
   "metadata": {},
   "outputs": [],
   "source": [
    "df['adult'] = df['adult'].astype(int)"
   ]
  },
  {
   "cell_type": "code",
   "execution_count": 72,
   "id": "0471fc87-1e95-4e29-b194-6c56ecaad767",
   "metadata": {},
   "outputs": [
    {
     "data": {
      "text/plain": [
       "adult\n",
       "False    163543\n",
       "True       2012\n",
       "Name: count, dtype: int64"
      ]
     },
     "execution_count": 72,
     "metadata": {},
     "output_type": "execute_result"
    }
   ],
   "source": [
    "df['adult'].value_counts()"
   ]
  },
  {
   "cell_type": "markdown",
   "id": "e3fe574d",
   "metadata": {},
   "source": [
    "## backdrop_path"
   ]
  },
  {
   "cell_type": "code",
   "execution_count": 17,
   "id": "b5179234-c9cd-485c-a219-a1d3f28744af",
   "metadata": {},
   "outputs": [
    {
     "data": {
      "text/plain": [
       "0          /2OMB0ynKlyIenMJWI2Dy9IWT4c.jpg\n",
       "1         /gFZriCkpJYsApPZEF3jhxL4yLzG.jpg\n",
       "2         /2MaumbgBlW1NoPo3ZJO38A6v7OS.jpg\n",
       "3         /x4salpjB11umlUOltfNvSSrjSXm.jpg\n",
       "4         /aDBRtunw49UF4XmqfyNuD9nlYIu.jpg\n",
       "                        ...               \n",
       "165555                                 NaN\n",
       "165556                                 NaN\n",
       "165557                                 NaN\n",
       "165558                                 NaN\n",
       "165559                                 NaN\n",
       "Name: backdrop_path, Length: 165555, dtype: object"
      ]
     },
     "execution_count": 17,
     "metadata": {},
     "output_type": "execute_result"
    }
   ],
   "source": [
    "df['backdrop_path']"
   ]
  },
  {
   "cell_type": "code",
   "execution_count": 18,
   "id": "37f46849-0624-4447-99d1-acd379195220",
   "metadata": {},
   "outputs": [],
   "source": [
    "df=df.drop('backdrop_path', axis=1)"
   ]
  },
  {
   "cell_type": "markdown",
   "id": "4fc9426f",
   "metadata": {},
   "source": [
    "## first_air_date"
   ]
  },
  {
   "cell_type": "code",
   "execution_count": 19,
   "id": "474d5bc5-8854-41ce-a129-ccae1e7a602a",
   "metadata": {},
   "outputs": [],
   "source": [
    "df['first_air_date'] = pd.to_datetime(df['first_air_date'], errors='coerce')"
   ]
  },
  {
   "cell_type": "code",
   "execution_count": 20,
   "id": "3d499105-fffb-4a2c-83f0-5adeba36d74b",
   "metadata": {},
   "outputs": [
    {
     "data": {
      "text/plain": [
       "Timestamp('1917-01-09 00:00:00')"
      ]
     },
     "execution_count": 20,
     "metadata": {},
     "output_type": "execute_result"
    }
   ],
   "source": [
    "df['first_air_date'].min()"
   ]
  },
  {
   "cell_type": "markdown",
   "id": "678314f6-5ad9-473a-a1a2-903683d157b7",
   "metadata": {},
   "source": [
    "Ahol nan értékkel szembesültem, ott az első máig megmaradt film keletkezésének dátumát adtam meg, ezért figyelhetjük meg azt a megugrást az alább hisztogramban. Emellett érdekes megfigyelni, hogy milyen exponenciális eloszlást követnek a dátumok számossága"
   ]
  },
  {
   "cell_type": "code",
   "execution_count": 21,
   "id": "c89d8c1f-c325-45d4-bc38-92fbf966e0e7",
   "metadata": {},
   "outputs": [],
   "source": [
    "def_date = pd.to_datetime('1888-10-14')\n",
    "\n",
    "df['first_air_date'].fillna(def_date, inplace=True)"
   ]
  },
  {
   "cell_type": "code",
   "execution_count": 22,
   "id": "300cbb89-92d1-4083-9312-269e26d5117e",
   "metadata": {},
   "outputs": [
    {
     "data": {
      "text/plain": [
       "<Axes: >"
      ]
     },
     "execution_count": 22,
     "metadata": {},
     "output_type": "execute_result"
    },
    {
     "data": {
      "image/png": "[encoded data removed]",
      "text/plain": [
       "<Figure size 640x480 with 1 Axes>"
      ]
     },
     "metadata": {},
     "output_type": "display_data"
    }
   ],
   "source": [
    "df['first_air_date'].hist(bins=100)"
   ]
  },
  {
   "cell_type": "markdown",
   "id": "80b5d740",
   "metadata": {},
   "source": [
    "## last_air_date"
   ]
  },
  {
   "cell_type": "markdown",
   "id": "05e617d4-2db2-4396-b2cb-43bdd9a42722",
   "metadata": {},
   "source": [
    "Itt ugyanaz figyelhető meg mint a first_air_date-nél"
   ]
  },
  {
   "cell_type": "code",
   "execution_count": 23,
   "id": "80ec3bc9-759f-4847-a97a-2c2af3a41d80",
   "metadata": {},
   "outputs": [],
   "source": [
    "df['last_air_date'] = pd.to_datetime(df['last_air_date'], errors='coerce')"
   ]
  },
  {
   "cell_type": "code",
   "execution_count": 24,
   "id": "5feb05ee-f3cb-4d1c-b008-4e219862d4b9",
   "metadata": {},
   "outputs": [
    {
     "data": {
      "text/plain": [
       "Timestamp('1917-01-09 00:00:00')"
      ]
     },
     "execution_count": 24,
     "metadata": {},
     "output_type": "execute_result"
    }
   ],
   "source": [
    "df['last_air_date'].min()"
   ]
  },
  {
   "cell_type": "code",
   "execution_count": 25,
   "id": "d63f4b2e-489e-451e-b980-501685f98292",
   "metadata": {},
   "outputs": [],
   "source": [
    "def_date = pd.to_datetime('1888-10-14')\n",
    "\n",
    "df['last_air_date'].fillna(def_date, inplace=True)"
   ]
  },
  {
   "cell_type": "code",
   "execution_count": 26,
   "id": "41d2ac73-882c-4ea3-9240-a3e3cc3f41bf",
   "metadata": {},
   "outputs": [
    {
     "data": {
      "text/plain": [
       "<Axes: >"
      ]
     },
     "execution_count": 26,
     "metadata": {},
     "output_type": "execute_result"
    },
    {
     "data": {
      "image/png": "[encoded data removed]",
      "text/plain": [
       "<Figure size 640x480 with 1 Axes>"
      ]
     },
     "metadata": {},
     "output_type": "display_data"
    }
   ],
   "source": [
    "df['first_air_date'].hist(bins=100)"
   ]
  },
  {
   "cell_type": "markdown",
   "id": "afe1500c",
   "metadata": {},
   "source": [
    "## homepage"
   ]
  },
  {
   "cell_type": "code",
   "execution_count": 74,
   "id": "41fbd518-e7d7-4877-8c6c-7a3ecc40492d",
   "metadata": {},
   "outputs": [],
   "source": [
    "df['has_homepage'] = df['homepage'].apply(lambda x: 0 if pd.isna(x) else 1)"
   ]
  },
  {
   "cell_type": "code",
   "execution_count": 75,
   "id": "779ac976-9504-4634-8650-029e4e11a085",
   "metadata": {},
   "outputs": [],
   "source": [
    "df=df.drop('homepage', axis=1)"
   ]
  },
  {
   "cell_type": "code",
   "execution_count": 76,
   "id": "ce665716-a495-4fee-9ff3-620322a876c2",
   "metadata": {},
   "outputs": [
    {
     "data": {
      "text/plain": [
       "has_homepage\n",
       "0    115105\n",
       "1     50450\n",
       "Name: count, dtype: int64"
      ]
     },
     "execution_count": 76,
     "metadata": {},
     "output_type": "execute_result"
    }
   ],
   "source": [
    "df['has_homepage'].value_counts()"
   ]
  },
  {
   "cell_type": "markdown",
   "id": "a667c125",
   "metadata": {},
   "source": [
    "## in_production"
   ]
  },
  {
   "cell_type": "markdown",
   "id": "581380dc-6688-4cfe-875b-e0578bd0195e",
   "metadata": {},
   "source": [
    "Ennél az oszlopnál teljesen meglepett az két érték aránya, mivel a filmek számának exponenciális növekedése mellett se számítottam rá, hogy ennyi sorozat igazából még befejezetlen, így fél információkkal dolgozunk esetükben"
   ]
  },
  {
   "cell_type": "code",
   "execution_count": 29,
   "id": "991ee0d0-0255-43c3-9a69-21281a9d28dc",
   "metadata": {},
   "outputs": [],
   "source": [
    "df['in_production'] = df['in_production'].astype(int)"
   ]
  },
  {
   "cell_type": "code",
   "execution_count": 77,
   "id": "8c5c98fe-60c0-48ee-8db5-ecb806237e31",
   "metadata": {},
   "outputs": [
    {
     "data": {
      "text/plain": [
       "in_production\n",
       "False    97067\n",
       "True     68488\n",
       "Name: count, dtype: int64"
      ]
     },
     "execution_count": 77,
     "metadata": {},
     "output_type": "execute_result"
    }
   ],
   "source": [
    "df['in_production'].value_counts()"
   ]
  },
  {
   "cell_type": "markdown",
   "id": "e710d33f",
   "metadata": {},
   "source": [
    "## original_name"
   ]
  },
  {
   "cell_type": "markdown",
   "id": "0dff82b1",
   "metadata": {},
   "source": [
    "## popularity"
   ]
  },
  {
   "cell_type": "code",
   "execution_count": 115,
   "id": "93c73bd5-f09c-4e05-af9a-f2f856a51667",
   "metadata": {},
   "outputs": [
    {
     "data": {
      "text/plain": [
       "0"
      ]
     },
     "execution_count": 115,
     "metadata": {},
     "output_type": "execute_result"
    }
   ],
   "source": [
    "df['popularity'].isna().sum()"
   ]
  },
  {
   "cell_type": "code",
   "execution_count": 30,
   "id": "cd4141da-7d21-4061-ad60-43623e89462f",
   "metadata": {},
   "outputs": [
    {
     "data": {
      "text/plain": [
       "<Axes: >"
      ]
     },
     "execution_count": 30,
     "metadata": {},
     "output_type": "execute_result"
    },
    {
     "data": {
      "image/png": "[encoded data removed]",
      "text/plain": [
       "<Figure size 640x480 with 1 Axes>"
      ]
     },
     "metadata": {},
     "output_type": "display_data"
    }
   ],
   "source": [
    "df['popularity'].hist(bins=100, log=True)"
   ]
  },
  {
   "cell_type": "markdown",
   "id": "e5c157ea",
   "metadata": {},
   "source": [
    "## poster_path"
   ]
  },
  {
   "cell_type": "code",
   "execution_count": 31,
   "id": "203d6e22-9f02-467e-98e0-e84d675df931",
   "metadata": {},
   "outputs": [],
   "source": [
    "df=df.drop('poster_path', axis=1)"
   ]
  },
  {
   "cell_type": "markdown",
   "id": "6381f5d4",
   "metadata": {},
   "source": [
    "## type"
   ]
  },
  {
   "cell_type": "code",
   "execution_count": 32,
   "id": "ec0117cd-9ff6-4a23-8d35-030bff4b1b64",
   "metadata": {},
   "outputs": [
    {
     "data": {
      "text/plain": [
       "type\n",
       "Scripted       127041\n",
       "Documentary     13452\n",
       "Miniseries      10639\n",
       "Reality          9511\n",
       "Talk Show        2947\n",
       "Video            1361\n",
       "News              604\n",
       "Name: count, dtype: int64"
      ]
     },
     "execution_count": 32,
     "metadata": {},
     "output_type": "execute_result"
    }
   ],
   "source": [
    "df['type'].value_counts()"
   ]
  },
  {
   "cell_type": "markdown",
   "id": "2989d182",
   "metadata": {},
   "source": [
    "## status"
   ]
  },
  {
   "cell_type": "code",
   "execution_count": 35,
   "id": "731c8990-15a9-4ae3-bf3a-a02905604f66",
   "metadata": {},
   "outputs": [
    {
     "data": {
      "text/plain": [
       "status\n",
       "Ended               92506\n",
       "Returning Series    65432\n",
       "Canceled             4561\n",
       "In Production        2229\n",
       "Planned               595\n",
       "Pilot                 232\n",
       "Name: count, dtype: int64"
      ]
     },
     "execution_count": 35,
     "metadata": {},
     "output_type": "execute_result"
    }
   ],
   "source": [
    "df['status'].value_counts()"
   ]
  },
  {
   "cell_type": "code",
   "execution_count": 116,
   "id": "9ee9f0e9-6293-4777-9c21-713c0ad9e5b5",
   "metadata": {},
   "outputs": [],
   "source": [
    "df_2=df[df['in_production']==True]"
   ]
  },
  {
   "cell_type": "code",
   "execution_count": 118,
   "id": "e4fac96d-0ba3-425f-9cef-3a9876c855fe",
   "metadata": {},
   "outputs": [
    {
     "data": {
      "text/plain": [
       "status\n",
       "Returning Series    65432\n",
       "In Production        2229\n",
       "Planned               595\n",
       "Pilot                 232\n",
       "Name: count, dtype: int64"
      ]
     },
     "execution_count": 118,
     "metadata": {},
     "output_type": "execute_result"
    }
   ],
   "source": [
    "df_2['status'].value_counts()"
   ]
  },
  {
   "cell_type": "code",
   "execution_count": 119,
   "id": "340f6db9-a67f-4a54-8797-b48a77ca4b33",
   "metadata": {},
   "outputs": [],
   "source": [
    "df_2=df[df['in_production']==False]"
   ]
  },
  {
   "cell_type": "code",
   "execution_count": 120,
   "id": "10f907a1-d7b9-4c8f-a57d-4a0443445ad2",
   "metadata": {},
   "outputs": [
    {
     "data": {
      "text/plain": [
       "status\n",
       "Ended       92506\n",
       "Canceled     4561\n",
       "Name: count, dtype: int64"
      ]
     },
     "execution_count": 120,
     "metadata": {},
     "output_type": "execute_result"
    }
   ],
   "source": [
    "df_2['status'].value_counts()"
   ]
  },
  {
   "cell_type": "markdown",
   "id": "b74d8560",
   "metadata": {
    "jp-MarkdownHeadingCollapsed": true
   },
   "source": [
    "## tagline"
   ]
  },
  {
   "cell_type": "code",
   "execution_count": 37,
   "id": "6af3ff6b-2357-492e-936e-8b15802a772b",
   "metadata": {},
   "outputs": [],
   "source": [
    "df=df.drop('tagline', axis=1)"
   ]
  },
  {
   "cell_type": "markdown",
   "id": "330d6a76",
   "metadata": {},
   "source": [
    "## genres"
   ]
  },
  {
   "cell_type": "markdown",
   "id": "de04c124-81e4-4425-8b75-89e525944173",
   "metadata": {},
   "source": [
    "A genres-nél az egyedi függvénnyel megvizsgáltam, hogy melyik kategóriák a legnépszerűbbek"
   ]
  },
  {
   "cell_type": "code",
   "execution_count": 38,
   "id": "2b42e645-eb4d-4fe3-bcfc-cd16c7d7f20a",
   "metadata": {},
   "outputs": [
    {
     "name": "stdout",
     "output_type": "stream",
     "text": [
      "genres\n",
      "Documentary                                                                    17274\n",
      "Drama                                                                          15953\n",
      "Comedy                                                                         10200\n",
      "Reality                                                                         7857\n",
      "Animation                                                                       3296\n",
      "                                                                               ...  \n",
      "Animation, Action & Adventure, Drama, Comedy                                       1\n",
      "Sci-Fi & Fantasy, Comedy, Reality, Action & Adventure                              1\n",
      "Drama, Animation, Comedy, Action & Adventure                                       1\n",
      "Animation, Action & Adventure, Comedy, Action & Adventure, Sci-Fi & Fantasy        1\n",
      "Comedy, Documentary, Sci-Fi & Fantasy, Mystery                                     1\n",
      "Name: count, Length: 2218, dtype: int64\n"
     ]
    }
   ],
   "source": [
    "print(df['genres'].value_counts())"
   ]
  },
  {
   "cell_type": "code",
   "execution_count": 97,
   "id": "dc6ce3d4-cc29-4384-ab9a-b155405b8eed",
   "metadata": {},
   "outputs": [
    {
     "name": "stdout",
     "output_type": "stream",
     "text": [
      "Drama: 33209\n",
      "Comedy: 23029\n",
      "Documentary: 21663\n",
      "Animation: 11873\n",
      "Reality: 10831\n",
      "Action: 7202\n",
      "Adventure: 7202\n",
      "Crime: 6791\n",
      "Family: 6432\n",
      "Sci-Fi: 6316\n"
     ]
    },
    {
     "data": {
      "text/plain": [
       "0"
      ]
     },
     "execution_count": 97,
     "metadata": {},
     "output_type": "execute_result"
    }
   ],
   "source": [
    "unique_vals(df, 'genres')\n"
   ]
  },
  {
   "cell_type": "markdown",
   "id": "ddd52773-ebae-4f23-b7e4-43bca230a418",
   "metadata": {},
   "source": [
    "A továbbiakban a legtöbb helyen ezt az egyedi függvényt használtam."
   ]
  },
  {
   "cell_type": "markdown",
   "id": "4ca8d90f",
   "metadata": {},
   "source": [
    "## created_by"
   ]
  },
  {
   "cell_type": "markdown",
   "id": "01b6b5d6-f856-40d8-97ce-aad5aa013e8b",
   "metadata": {},
   "source": []
  },
  {
   "cell_type": "code",
   "execution_count": 98,
   "id": "e26901a0-7573-411b-b231-231964d31710",
   "metadata": {},
   "outputs": [
    {
     "name": "stdout",
     "output_type": "stream",
     "text": [
      "Shotaro Ishinomori: 113\n",
      "John de Mol: 88\n",
      "Adrián Suar: 71\n",
      "Simon Fuller: 64\n",
      "Joseph Barbera: 52\n",
      "William Hanna: 52\n",
      "Ekta Kapoor: 51\n",
      "Na Young-seok: 49\n",
      "Mark Burnett: 47\n",
      "R.J. Nuevas: 45\n"
     ]
    },
    {
     "data": {
      "text/plain": [
       "0"
      ]
     },
     "execution_count": 98,
     "metadata": {},
     "output_type": "execute_result"
    }
   ],
   "source": [
    "unique_vals(df, 'created_by')\n"
   ]
  },
  {
   "cell_type": "markdown",
   "id": "75c23c57",
   "metadata": {},
   "source": [
    "## languages"
   ]
  },
  {
   "cell_type": "code",
   "execution_count": 99,
   "id": "2bf5ef63-53c6-428e-a6bc-64496e455740",
   "metadata": {},
   "outputs": [
    {
     "name": "stdout",
     "output_type": "stream",
     "text": [
      "en: 42166\n",
      "ja: 11373\n",
      "zh: 7931\n",
      "de: 6770\n",
      "fr: 6739\n",
      "ko: 4696\n",
      "es: 4623\n",
      "pt: 3001\n",
      "nl: 2529\n",
      "ru: 2089\n"
     ]
    },
    {
     "data": {
      "text/plain": [
       "0"
      ]
     },
     "execution_count": 99,
     "metadata": {},
     "output_type": "execute_result"
    }
   ],
   "source": [
    "unique_vals(df, 'languages')"
   ]
  },
  {
   "cell_type": "markdown",
   "id": "ee5859ad",
   "metadata": {},
   "source": [
    "## networks"
   ]
  },
  {
   "cell_type": "code",
   "execution_count": 100,
   "id": "6cb1d50b-d691-418c-9f72-ec4aae8b0ae6",
   "metadata": {},
   "outputs": [
    {
     "name": "stdout",
     "output_type": "stream",
     "text": [
      "YouTube: 2459\n",
      "BBC One: 2272\n",
      "Netflix: 1922\n",
      "ITV1: 1841\n",
      "BBC Two: 1771\n",
      "ABC: 1592\n",
      "NBC: 1548\n",
      "CBS: 1419\n",
      "TVB Jade: 1411\n",
      "Channel 4: 1312\n"
     ]
    },
    {
     "data": {
      "text/plain": [
       "0"
      ]
     },
     "execution_count": 100,
     "metadata": {},
     "output_type": "execute_result"
    }
   ],
   "source": [
    "unique_vals(df, 'networks')"
   ]
  },
  {
   "cell_type": "markdown",
   "id": "f8f28752",
   "metadata": {},
   "source": [
    "## origin_country"
   ]
  },
  {
   "cell_type": "code",
   "execution_count": 103,
   "id": "cdd1e8ae-81b7-4dd7-9f45-5a847f6c06d8",
   "metadata": {},
   "outputs": [
    {
     "name": "stdout",
     "output_type": "stream",
     "text": [
      "US: 29286\n",
      "GB: 13674\n",
      "JP: 13573\n",
      "CN: 10920\n",
      "DE: 6650\n",
      "KR: 6088\n",
      "CA: 5049\n",
      "FR: 4248\n",
      "AU: 3286\n",
      "BR: 2578\n"
     ]
    },
    {
     "data": {
      "text/plain": [
       "0"
      ]
     },
     "execution_count": 103,
     "metadata": {},
     "output_type": "execute_result"
    }
   ],
   "source": [
    "unique_vals(df, 'origin_country')"
   ]
  },
  {
   "cell_type": "markdown",
   "id": "4dd323dc",
   "metadata": {},
   "source": [
    "## spoken_languages"
   ]
  },
  {
   "cell_type": "code",
   "execution_count": 109,
   "id": "b53180ec-8fe8-4db8-9963-39254322c9fc",
   "metadata": {},
   "outputs": [
    {
     "name": "stdout",
     "output_type": "stream",
     "text": [
      "English: 42166\n",
      "日本語: 11373\n",
      "普通话: 7931\n",
      "Deutsch: 6770\n",
      "Français: 6739\n",
      "한국어/조선말: 4696\n",
      "Español: 4623\n",
      "Português: 3001\n",
      "Nederlands: 2529\n",
      "Pусский: 2089\n"
     ]
    },
    {
     "data": {
      "text/plain": [
       "0"
      ]
     },
     "execution_count": 109,
     "metadata": {},
     "output_type": "execute_result"
    }
   ],
   "source": [
    "unique_vals(df, 'spoken_languages')"
   ]
  },
  {
   "cell_type": "markdown",
   "id": "1edafef6",
   "metadata": {},
   "source": [
    "## production_companies"
   ]
  },
  {
   "cell_type": "code",
   "execution_count": 104,
   "id": "ba693c3b-8a33-4548-882f-0a4cf0eca637",
   "metadata": {},
   "outputs": [
    {
     "name": "stdout",
     "output_type": "stream",
     "text": [
      "TVB: 1388\n",
      "BBC: 867\n",
      "Estúdios Globo: 631\n",
      "NHK: 576\n",
      "Česká televize: 395\n",
      "Warner Bros. Television: 380\n",
      "Televisa: 347\n",
      "Universal Television: 346\n",
      "DR TV: 343\n",
      "TV 2: 333\n"
     ]
    },
    {
     "data": {
      "text/plain": [
       "0"
      ]
     },
     "execution_count": 104,
     "metadata": {},
     "output_type": "execute_result"
    }
   ],
   "source": [
    "unique_vals(df, 'production_companies')"
   ]
  },
  {
   "cell_type": "markdown",
   "id": "a2e4ce3c",
   "metadata": {},
   "source": [
    "## production_countries"
   ]
  },
  {
   "cell_type": "code",
   "execution_count": 106,
   "id": "83edfaef-49c7-4d2a-bf7d-5af3906c5a3a",
   "metadata": {},
   "outputs": [
    {
     "name": "stdout",
     "output_type": "stream",
     "text": [
      "United States of America: 10467\n",
      "Japan: 9832\n",
      "China: 6259\n",
      "Germany: 5952\n",
      "United Kingdom: 5859\n",
      "South Korea: 3730\n",
      "France: 3472\n",
      "Canada: 3321\n",
      "Hong Kong: 1961\n",
      "Brazil: 1912\n"
     ]
    },
    {
     "data": {
      "text/plain": [
       "0"
      ]
     },
     "execution_count": 106,
     "metadata": {},
     "output_type": "execute_result"
    }
   ],
   "source": [
    "unique_vals(df, 'production_countries')"
   ]
  },
  {
   "cell_type": "markdown",
   "id": "1da960e5",
   "metadata": {},
   "source": [
    "## episode_run_time "
   ]
  },
  {
   "cell_type": "code",
   "execution_count": 108,
   "id": "6909343d",
   "metadata": {},
   "outputs": [
    {
     "data": {
      "text/plain": [
       "<Axes: >"
      ]
     },
     "execution_count": 108,
     "metadata": {},
     "output_type": "execute_result"
    },
    {
     "data": {
      "image/png": "[encoded data removed]",
      "text/plain": [
       "<Figure size 640x480 with 1 Axes>"
      ]
     },
     "metadata": {},
     "output_type": "display_data"
    }
   ],
   "source": [
    "df['episode_run_time'].hist(bins=100, log=True)"
   ]
  },
  {
   "cell_type": "code",
   "execution_count": null,
   "id": "4ebc1990-ddc8-47a4-9bfc-abbe33ce7053",
   "metadata": {},
   "outputs": [],
   "source": []
  }
 ],
 "metadata": {
  "kernelspec": {
   "display_name": "Python 3 (ipykernel)",
   "language": "python",
   "name": "python3"
  },
  "language_info": {
   "codemirror_mode": {
    "name": "ipython",
    "version": 3
   },
   "file_extension": ".py",
   "mimetype": "text/x-python",
   "name": "python",
   "nbconvert_exporter": "python",
   "pygments_lexer": "ipython3",
   "version": "3.11.5"
  }
 },
 "nbformat": 4,
 "nbformat_minor": 5
}
