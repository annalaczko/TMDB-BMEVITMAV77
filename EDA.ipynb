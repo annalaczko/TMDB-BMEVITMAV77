{
 "cells": [
  {
   "cell_type": "code",
   "execution_count": 1,
   "id": "71082408-b30c-472c-a159-a5692e73a852",
   "metadata": {},
   "outputs": [],
   "source": [
    "# !pip install matplotlib\n",
    "# !pip install langdetect\n",
    "# !pip install iso-639"
   ]
  },
  {
   "cell_type": "code",
   "execution_count": 2,
   "id": "feed9cdb",
   "metadata": {},
   "outputs": [],
   "source": [
    "import numpy as np\n",
    "import pandas as pd\n",
    "import math\n",
    "from matplotlib import pyplot as plt\n",
    "from iso639 import languages\n",
    "from langdetect import detect"
   ]
  },
  {
   "cell_type": "code",
   "execution_count": 3,
   "id": "9bf039a8",
   "metadata": {},
   "outputs": [],
   "source": [
    "df = pd.read_csv('data/TMDB_tv_dataset_v3.csv')"
   ]
  },
  {
   "cell_type": "code",
   "execution_count": 4,
   "id": "ee927949",
   "metadata": {},
   "outputs": [
    {
     "data": {
      "text/html": [
       "<div>\n",
       "<style scoped>\n",
       "    .dataframe tbody tr th:only-of-type {\n",
       "        vertical-align: middle;\n",
       "    }\n",
       "\n",
       "    .dataframe tbody tr th {\n",
       "        vertical-align: top;\n",
       "    }\n",
       "\n",
       "    .dataframe thead th {\n",
       "        text-align: right;\n",
       "    }\n",
       "</style>\n",
       "<table border=\"1\" class=\"dataframe\">\n",
       "  <thead>\n",
       "    <tr style=\"text-align: right;\">\n",
       "      <th></th>\n",
       "      <th>id</th>\n",
       "      <th>name</th>\n",
       "      <th>number_of_seasons</th>\n",
       "      <th>number_of_episodes</th>\n",
       "      <th>original_language</th>\n",
       "      <th>vote_count</th>\n",
       "      <th>vote_average</th>\n",
       "      <th>overview</th>\n",
       "      <th>adult</th>\n",
       "      <th>backdrop_path</th>\n",
       "      <th>...</th>\n",
       "      <th>tagline</th>\n",
       "      <th>genres</th>\n",
       "      <th>created_by</th>\n",
       "      <th>languages</th>\n",
       "      <th>networks</th>\n",
       "      <th>origin_country</th>\n",
       "      <th>spoken_languages</th>\n",
       "      <th>production_companies</th>\n",
       "      <th>production_countries</th>\n",
       "      <th>episode_run_time</th>\n",
       "    </tr>\n",
       "  </thead>\n",
       "  <tbody>\n",
       "    <tr>\n",
       "      <th>138740</th>\n",
       "      <td>53256</td>\n",
       "      <td>O hartopehtis</td>\n",
       "      <td>0</td>\n",
       "      <td>0</td>\n",
       "      <td>en</td>\n",
       "      <td>0</td>\n",
       "      <td>0.000</td>\n",
       "      <td>NaN</td>\n",
       "      <td>False</td>\n",
       "      <td>NaN</td>\n",
       "      <td>...</td>\n",
       "      <td>NaN</td>\n",
       "      <td>NaN</td>\n",
       "      <td>NaN</td>\n",
       "      <td>NaN</td>\n",
       "      <td>NaN</td>\n",
       "      <td>NaN</td>\n",
       "      <td>NaN</td>\n",
       "      <td>NaN</td>\n",
       "      <td>NaN</td>\n",
       "      <td>0</td>\n",
       "    </tr>\n",
       "    <tr>\n",
       "      <th>135273</th>\n",
       "      <td>123278</td>\n",
       "      <td>Perfect Report</td>\n",
       "      <td>1</td>\n",
       "      <td>10</td>\n",
       "      <td>ja</td>\n",
       "      <td>0</td>\n",
       "      <td>0.000</td>\n",
       "      <td>NaN</td>\n",
       "      <td>False</td>\n",
       "      <td>/zhgVp5o1ZkQl3NZ6IrrgPypjgXn.jpg</td>\n",
       "      <td>...</td>\n",
       "      <td>NaN</td>\n",
       "      <td>Drama</td>\n",
       "      <td>NaN</td>\n",
       "      <td>NaN</td>\n",
       "      <td>Fuji TV</td>\n",
       "      <td>JP</td>\n",
       "      <td>NaN</td>\n",
       "      <td>Kyodo Television</td>\n",
       "      <td>NaN</td>\n",
       "      <td>0</td>\n",
       "    </tr>\n",
       "    <tr>\n",
       "      <th>56175</th>\n",
       "      <td>72413</td>\n",
       "      <td>Love Ka Hai Intezaar</td>\n",
       "      <td>1</td>\n",
       "      <td>1</td>\n",
       "      <td>hi</td>\n",
       "      <td>1</td>\n",
       "      <td>5.000</td>\n",
       "      <td>Actress Kamini Mathur is an ordinary girl at h...</td>\n",
       "      <td>False</td>\n",
       "      <td>/e3mHXIUMBNf8fKOU8ejhad6xMKw.jpg</td>\n",
       "      <td>...</td>\n",
       "      <td>NaN</td>\n",
       "      <td>Drama, Family</td>\n",
       "      <td>NaN</td>\n",
       "      <td>ur, ar, hi</td>\n",
       "      <td>StarPlus, MBC Bollywood</td>\n",
       "      <td>IN</td>\n",
       "      <td>اردو, العربية, हिन्दी</td>\n",
       "      <td>Alchemy Productions</td>\n",
       "      <td>India</td>\n",
       "      <td>22</td>\n",
       "    </tr>\n",
       "    <tr>\n",
       "      <th>3206</th>\n",
       "      <td>1449</td>\n",
       "      <td>Mutant X</td>\n",
       "      <td>3</td>\n",
       "      <td>66</td>\n",
       "      <td>en</td>\n",
       "      <td>91</td>\n",
       "      <td>6.571</td>\n",
       "      <td>Mutant X is a science fiction television serie...</td>\n",
       "      <td>False</td>\n",
       "      <td>/A2BqbbSs9E4emekdxdvWzLK6lpx.jpg</td>\n",
       "      <td>...</td>\n",
       "      <td>Creation can have it's side effects</td>\n",
       "      <td>Sci-Fi &amp; Fantasy, Action &amp; Adventure, Mystery</td>\n",
       "      <td>NaN</td>\n",
       "      <td>en</td>\n",
       "      <td>Syndication</td>\n",
       "      <td>CA, US</td>\n",
       "      <td>English</td>\n",
       "      <td>NaN</td>\n",
       "      <td>Canada, United States of America</td>\n",
       "      <td>44</td>\n",
       "    </tr>\n",
       "    <tr>\n",
       "      <th>114732</th>\n",
       "      <td>109276</td>\n",
       "      <td>做个好心人</td>\n",
       "      <td>1</td>\n",
       "      <td>1</td>\n",
       "      <td>zh</td>\n",
       "      <td>0</td>\n",
       "      <td>0.000</td>\n",
       "      <td>NaN</td>\n",
       "      <td>False</td>\n",
       "      <td>NaN</td>\n",
       "      <td>...</td>\n",
       "      <td>NaN</td>\n",
       "      <td>NaN</td>\n",
       "      <td>NaN</td>\n",
       "      <td>NaN</td>\n",
       "      <td>NaN</td>\n",
       "      <td>MY</td>\n",
       "      <td>NaN</td>\n",
       "      <td>NaN</td>\n",
       "      <td>Malaysia</td>\n",
       "      <td>0</td>\n",
       "    </tr>\n",
       "    <tr>\n",
       "      <th>79336</th>\n",
       "      <td>234202</td>\n",
       "      <td>Never Ever</td>\n",
       "      <td>1</td>\n",
       "      <td>0</td>\n",
       "      <td>de</td>\n",
       "      <td>0</td>\n",
       "      <td>0.000</td>\n",
       "      <td>NaN</td>\n",
       "      <td>False</td>\n",
       "      <td>NaN</td>\n",
       "      <td>...</td>\n",
       "      <td>NaN</td>\n",
       "      <td>Comedy</td>\n",
       "      <td>NaN</td>\n",
       "      <td>de</td>\n",
       "      <td>Prime Video</td>\n",
       "      <td>DE</td>\n",
       "      <td>Deutsch</td>\n",
       "      <td>bildundtonfabrik</td>\n",
       "      <td>Germany</td>\n",
       "      <td>0</td>\n",
       "    </tr>\n",
       "    <tr>\n",
       "      <th>99668</th>\n",
       "      <td>74924</td>\n",
       "      <td>Skandinavien: Der Ruf der Natur</td>\n",
       "      <td>1</td>\n",
       "      <td>5</td>\n",
       "      <td>de</td>\n",
       "      <td>0</td>\n",
       "      <td>0.000</td>\n",
       "      <td>NaN</td>\n",
       "      <td>False</td>\n",
       "      <td>NaN</td>\n",
       "      <td>...</td>\n",
       "      <td>NaN</td>\n",
       "      <td>Documentary</td>\n",
       "      <td>NaN</td>\n",
       "      <td>de</td>\n",
       "      <td>Arte</td>\n",
       "      <td>FI</td>\n",
       "      <td>Deutsch</td>\n",
       "      <td>NaN</td>\n",
       "      <td>NaN</td>\n",
       "      <td>43</td>\n",
       "    </tr>\n",
       "    <tr>\n",
       "      <th>7595</th>\n",
       "      <td>71492</td>\n",
       "      <td>Loaded</td>\n",
       "      <td>1</td>\n",
       "      <td>8</td>\n",
       "      <td>en</td>\n",
       "      <td>21</td>\n",
       "      <td>6.900</td>\n",
       "      <td>Four friends who become multi-millionaires whe...</td>\n",
       "      <td>False</td>\n",
       "      <td>/vMz9MGWnF2F5gcyRINvKQjBcWUz.jpg</td>\n",
       "      <td>...</td>\n",
       "      <td>NaN</td>\n",
       "      <td>Drama, Comedy</td>\n",
       "      <td>NaN</td>\n",
       "      <td>en</td>\n",
       "      <td>Channel 4</td>\n",
       "      <td>GB</td>\n",
       "      <td>English</td>\n",
       "      <td>NaN</td>\n",
       "      <td>NaN</td>\n",
       "      <td>42</td>\n",
       "    </tr>\n",
       "    <tr>\n",
       "      <th>39793</th>\n",
       "      <td>66198</td>\n",
       "      <td>Bible Mysteries</td>\n",
       "      <td>1</td>\n",
       "      <td>9</td>\n",
       "      <td>en</td>\n",
       "      <td>1</td>\n",
       "      <td>7.500</td>\n",
       "      <td>A series of programmes exploring great figures...</td>\n",
       "      <td>False</td>\n",
       "      <td>/kLudairTkq3Pf9rF4cuP0sEdq3s.jpg</td>\n",
       "      <td>...</td>\n",
       "      <td>NaN</td>\n",
       "      <td>Documentary</td>\n",
       "      <td>NaN</td>\n",
       "      <td>en</td>\n",
       "      <td>BBC Two</td>\n",
       "      <td>GB</td>\n",
       "      <td>English</td>\n",
       "      <td>Discovery Channel, BBC Manchester</td>\n",
       "      <td>NaN</td>\n",
       "      <td>50</td>\n",
       "    </tr>\n",
       "    <tr>\n",
       "      <th>55236</th>\n",
       "      <td>218368</td>\n",
       "      <td>La extraña dama</td>\n",
       "      <td>1</td>\n",
       "      <td>120</td>\n",
       "      <td>es</td>\n",
       "      <td>1</td>\n",
       "      <td>2.000</td>\n",
       "      <td>NaN</td>\n",
       "      <td>False</td>\n",
       "      <td>/oBbITUpjBXGapaab6TXuH3KzeOZ.jpg</td>\n",
       "      <td>...</td>\n",
       "      <td>NaN</td>\n",
       "      <td>Drama</td>\n",
       "      <td>María Teresa Forero, Diana Álvarez, Omar Romay</td>\n",
       "      <td>es</td>\n",
       "      <td>El Nueve</td>\n",
       "      <td>AR</td>\n",
       "      <td>Español</td>\n",
       "      <td>NaN</td>\n",
       "      <td>Argentina</td>\n",
       "      <td>50</td>\n",
       "    </tr>\n",
       "    <tr>\n",
       "      <th>161954</th>\n",
       "      <td>33360</td>\n",
       "      <td>Love ni Mister, Love ni Misis</td>\n",
       "      <td>0</td>\n",
       "      <td>0</td>\n",
       "      <td>en</td>\n",
       "      <td>0</td>\n",
       "      <td>0.000</td>\n",
       "      <td>Love ni Mister, Love ni Misis is a Philippine ...</td>\n",
       "      <td>False</td>\n",
       "      <td>NaN</td>\n",
       "      <td>...</td>\n",
       "      <td>NaN</td>\n",
       "      <td>NaN</td>\n",
       "      <td>NaN</td>\n",
       "      <td>en</td>\n",
       "      <td>GMA Network</td>\n",
       "      <td>PH</td>\n",
       "      <td>English</td>\n",
       "      <td>NaN</td>\n",
       "      <td>NaN</td>\n",
       "      <td>60</td>\n",
       "    </tr>\n",
       "    <tr>\n",
       "      <th>53747</th>\n",
       "      <td>116575</td>\n",
       "      <td>מנהמנה#</td>\n",
       "      <td>1</td>\n",
       "      <td>12</td>\n",
       "      <td>he</td>\n",
       "      <td>1</td>\n",
       "      <td>5.000</td>\n",
       "      <td>NaN</td>\n",
       "      <td>False</td>\n",
       "      <td>NaN</td>\n",
       "      <td>...</td>\n",
       "      <td>NaN</td>\n",
       "      <td>Kids</td>\n",
       "      <td>NaN</td>\n",
       "      <td>NaN</td>\n",
       "      <td>HOT VOD Young</td>\n",
       "      <td>IL</td>\n",
       "      <td>NaN</td>\n",
       "      <td>ערוץ הילדים</td>\n",
       "      <td>Israel</td>\n",
       "      <td>0</td>\n",
       "    </tr>\n",
       "    <tr>\n",
       "      <th>132395</th>\n",
       "      <td>131772</td>\n",
       "      <td>Becoming Famous</td>\n",
       "      <td>1</td>\n",
       "      <td>1</td>\n",
       "      <td>en</td>\n",
       "      <td>0</td>\n",
       "      <td>0.000</td>\n",
       "      <td>Two best friends, Taylor and Katy, move to the...</td>\n",
       "      <td>False</td>\n",
       "      <td>NaN</td>\n",
       "      <td>...</td>\n",
       "      <td>NaN</td>\n",
       "      <td>Comedy</td>\n",
       "      <td>NaN</td>\n",
       "      <td>en</td>\n",
       "      <td>NaN</td>\n",
       "      <td>NaN</td>\n",
       "      <td>English</td>\n",
       "      <td>NaN</td>\n",
       "      <td>NaN</td>\n",
       "      <td>0</td>\n",
       "    </tr>\n",
       "    <tr>\n",
       "      <th>117556</th>\n",
       "      <td>228039</td>\n",
       "      <td>Ma takhafush</td>\n",
       "      <td>1</td>\n",
       "      <td>1</td>\n",
       "      <td>ar</td>\n",
       "      <td>0</td>\n",
       "      <td>0.000</td>\n",
       "      <td>NaN</td>\n",
       "      <td>False</td>\n",
       "      <td>NaN</td>\n",
       "      <td>...</td>\n",
       "      <td>NaN</td>\n",
       "      <td>Drama</td>\n",
       "      <td>NaN</td>\n",
       "      <td>NaN</td>\n",
       "      <td>NaN</td>\n",
       "      <td>EG</td>\n",
       "      <td>NaN</td>\n",
       "      <td>NaN</td>\n",
       "      <td>Egypt</td>\n",
       "      <td>0</td>\n",
       "    </tr>\n",
       "    <tr>\n",
       "      <th>101368</th>\n",
       "      <td>87938</td>\n",
       "      <td>Oshioki: Gakuen Reijou Kousei Keikaku</td>\n",
       "      <td>1</td>\n",
       "      <td>3</td>\n",
       "      <td>ja</td>\n",
       "      <td>0</td>\n",
       "      <td>0.000</td>\n",
       "      <td>NaN</td>\n",
       "      <td>True</td>\n",
       "      <td>NaN</td>\n",
       "      <td>...</td>\n",
       "      <td>NaN</td>\n",
       "      <td>Animation, Drama</td>\n",
       "      <td>NaN</td>\n",
       "      <td>ja</td>\n",
       "      <td>NaN</td>\n",
       "      <td>JP</td>\n",
       "      <td>日本語</td>\n",
       "      <td>MS Pictures, Celeb</td>\n",
       "      <td>Japan</td>\n",
       "      <td>20</td>\n",
       "    </tr>\n",
       "    <tr>\n",
       "      <th>157917</th>\n",
       "      <td>205839</td>\n",
       "      <td>결혼 활동 ABeeC 대사전</td>\n",
       "      <td>1</td>\n",
       "      <td>1</td>\n",
       "      <td>ko</td>\n",
       "      <td>0</td>\n",
       "      <td>0.000</td>\n",
       "      <td>NaN</td>\n",
       "      <td>False</td>\n",
       "      <td>NaN</td>\n",
       "      <td>...</td>\n",
       "      <td>NaN</td>\n",
       "      <td>NaN</td>\n",
       "      <td>NaN</td>\n",
       "      <td>NaN</td>\n",
       "      <td>NaN</td>\n",
       "      <td>KR</td>\n",
       "      <td>NaN</td>\n",
       "      <td>NaN</td>\n",
       "      <td>NaN</td>\n",
       "      <td>25</td>\n",
       "    </tr>\n",
       "    <tr>\n",
       "      <th>31005</th>\n",
       "      <td>216320</td>\n",
       "      <td>Murder in the Wicked West</td>\n",
       "      <td>1</td>\n",
       "      <td>6</td>\n",
       "      <td>en</td>\n",
       "      <td>2</td>\n",
       "      <td>4.000</td>\n",
       "      <td>It’s an epic landscape where Wild West traditi...</td>\n",
       "      <td>False</td>\n",
       "      <td>/wM3788QY5YbWb3DxRaFYxNDN8To.jpg</td>\n",
       "      <td>...</td>\n",
       "      <td>NaN</td>\n",
       "      <td>Documentary, Crime</td>\n",
       "      <td>NaN</td>\n",
       "      <td>en</td>\n",
       "      <td>Investigation Discovery</td>\n",
       "      <td>US</td>\n",
       "      <td>English</td>\n",
       "      <td>NaN</td>\n",
       "      <td>NaN</td>\n",
       "      <td>44</td>\n",
       "    </tr>\n",
       "    <tr>\n",
       "      <th>21222</th>\n",
       "      <td>94518</td>\n",
       "      <td>Nomad of Nowhere</td>\n",
       "      <td>1</td>\n",
       "      <td>12</td>\n",
       "      <td>en</td>\n",
       "      <td>4</td>\n",
       "      <td>6.800</td>\n",
       "      <td>Nomad of Nowhere is a Western/Fantasy 2D anima...</td>\n",
       "      <td>False</td>\n",
       "      <td>/vWuNCXe3WOOi4NCEC9PyKUHBIeH.jpg</td>\n",
       "      <td>...</td>\n",
       "      <td>NaN</td>\n",
       "      <td>Animation, Action &amp; Adventure, Western, Sci-Fi...</td>\n",
       "      <td>Miles Luna, Jordan Cwierz, Eddy Rivas</td>\n",
       "      <td>en</td>\n",
       "      <td>Rooster Teeth</td>\n",
       "      <td>US</td>\n",
       "      <td>English</td>\n",
       "      <td>Rooster Teeth Productions</td>\n",
       "      <td>United States of America</td>\n",
       "      <td>0</td>\n",
       "    </tr>\n",
       "    <tr>\n",
       "      <th>111998</th>\n",
       "      <td>121817</td>\n",
       "      <td>Strandvaskeren</td>\n",
       "      <td>1</td>\n",
       "      <td>1</td>\n",
       "      <td>da</td>\n",
       "      <td>0</td>\n",
       "      <td>0.000</td>\n",
       "      <td>NaN</td>\n",
       "      <td>False</td>\n",
       "      <td>NaN</td>\n",
       "      <td>...</td>\n",
       "      <td>NaN</td>\n",
       "      <td>NaN</td>\n",
       "      <td>NaN</td>\n",
       "      <td>NaN</td>\n",
       "      <td>NaN</td>\n",
       "      <td>NaN</td>\n",
       "      <td>NaN</td>\n",
       "      <td>NaN</td>\n",
       "      <td>NaN</td>\n",
       "      <td>0</td>\n",
       "    </tr>\n",
       "    <tr>\n",
       "      <th>137846</th>\n",
       "      <td>54238</td>\n",
       "      <td>Ali Mubarak</td>\n",
       "      <td>0</td>\n",
       "      <td>0</td>\n",
       "      <td>en</td>\n",
       "      <td>0</td>\n",
       "      <td>0.000</td>\n",
       "      <td>NaN</td>\n",
       "      <td>False</td>\n",
       "      <td>NaN</td>\n",
       "      <td>...</td>\n",
       "      <td>NaN</td>\n",
       "      <td>NaN</td>\n",
       "      <td>NaN</td>\n",
       "      <td>NaN</td>\n",
       "      <td>NaN</td>\n",
       "      <td>NaN</td>\n",
       "      <td>NaN</td>\n",
       "      <td>NaN</td>\n",
       "      <td>NaN</td>\n",
       "      <td>0</td>\n",
       "    </tr>\n",
       "  </tbody>\n",
       "</table>\n",
       "<p>20 rows × 29 columns</p>\n",
       "</div>"
      ],
      "text/plain": [
       "            id                                   name  number_of_seasons  \\\n",
       "138740   53256                          O hartopehtis                  0   \n",
       "135273  123278                         Perfect Report                  1   \n",
       "56175    72413                   Love Ka Hai Intezaar                  1   \n",
       "3206      1449                               Mutant X                  3   \n",
       "114732  109276                                  做个好心人                  1   \n",
       "79336   234202                             Never Ever                  1   \n",
       "99668    74924        Skandinavien: Der Ruf der Natur                  1   \n",
       "7595     71492                                 Loaded                  1   \n",
       "39793    66198                        Bible Mysteries                  1   \n",
       "55236   218368                        La extraña dama                  1   \n",
       "161954   33360          Love ni Mister, Love ni Misis                  0   \n",
       "53747   116575                                מנהמנה#                  1   \n",
       "132395  131772                        Becoming Famous                  1   \n",
       "117556  228039                           Ma takhafush                  1   \n",
       "101368   87938  Oshioki: Gakuen Reijou Kousei Keikaku                  1   \n",
       "157917  205839                        결혼 활동 ABeeC 대사전                  1   \n",
       "31005   216320              Murder in the Wicked West                  1   \n",
       "21222    94518                       Nomad of Nowhere                  1   \n",
       "111998  121817                         Strandvaskeren                  1   \n",
       "137846   54238                            Ali Mubarak                  0   \n",
       "\n",
       "        number_of_episodes original_language  vote_count  vote_average  \\\n",
       "138740                   0                en           0         0.000   \n",
       "135273                  10                ja           0         0.000   \n",
       "56175                    1                hi           1         5.000   \n",
       "3206                    66                en          91         6.571   \n",
       "114732                   1                zh           0         0.000   \n",
       "79336                    0                de           0         0.000   \n",
       "99668                    5                de           0         0.000   \n",
       "7595                     8                en          21         6.900   \n",
       "39793                    9                en           1         7.500   \n",
       "55236                  120                es           1         2.000   \n",
       "161954                   0                en           0         0.000   \n",
       "53747                   12                he           1         5.000   \n",
       "132395                   1                en           0         0.000   \n",
       "117556                   1                ar           0         0.000   \n",
       "101368                   3                ja           0         0.000   \n",
       "157917                   1                ko           0         0.000   \n",
       "31005                    6                en           2         4.000   \n",
       "21222                   12                en           4         6.800   \n",
       "111998                   1                da           0         0.000   \n",
       "137846                   0                en           0         0.000   \n",
       "\n",
       "                                                 overview  adult  \\\n",
       "138740                                                NaN  False   \n",
       "135273                                                NaN  False   \n",
       "56175   Actress Kamini Mathur is an ordinary girl at h...  False   \n",
       "3206    Mutant X is a science fiction television serie...  False   \n",
       "114732                                                NaN  False   \n",
       "79336                                                 NaN  False   \n",
       "99668                                                 NaN  False   \n",
       "7595    Four friends who become multi-millionaires whe...  False   \n",
       "39793   A series of programmes exploring great figures...  False   \n",
       "55236                                                 NaN  False   \n",
       "161954  Love ni Mister, Love ni Misis is a Philippine ...  False   \n",
       "53747                                                 NaN  False   \n",
       "132395  Two best friends, Taylor and Katy, move to the...  False   \n",
       "117556                                                NaN  False   \n",
       "101368                                                NaN   True   \n",
       "157917                                                NaN  False   \n",
       "31005   It’s an epic landscape where Wild West traditi...  False   \n",
       "21222   Nomad of Nowhere is a Western/Fantasy 2D anima...  False   \n",
       "111998                                                NaN  False   \n",
       "137846                                                NaN  False   \n",
       "\n",
       "                           backdrop_path  ...  \\\n",
       "138740                               NaN  ...   \n",
       "135273  /zhgVp5o1ZkQl3NZ6IrrgPypjgXn.jpg  ...   \n",
       "56175   /e3mHXIUMBNf8fKOU8ejhad6xMKw.jpg  ...   \n",
       "3206    /A2BqbbSs9E4emekdxdvWzLK6lpx.jpg  ...   \n",
       "114732                               NaN  ...   \n",
       "79336                                NaN  ...   \n",
       "99668                                NaN  ...   \n",
       "7595    /vMz9MGWnF2F5gcyRINvKQjBcWUz.jpg  ...   \n",
       "39793   /kLudairTkq3Pf9rF4cuP0sEdq3s.jpg  ...   \n",
       "55236   /oBbITUpjBXGapaab6TXuH3KzeOZ.jpg  ...   \n",
       "161954                               NaN  ...   \n",
       "53747                                NaN  ...   \n",
       "132395                               NaN  ...   \n",
       "117556                               NaN  ...   \n",
       "101368                               NaN  ...   \n",
       "157917                               NaN  ...   \n",
       "31005   /wM3788QY5YbWb3DxRaFYxNDN8To.jpg  ...   \n",
       "21222   /vWuNCXe3WOOi4NCEC9PyKUHBIeH.jpg  ...   \n",
       "111998                               NaN  ...   \n",
       "137846                               NaN  ...   \n",
       "\n",
       "                                    tagline  \\\n",
       "138740                                  NaN   \n",
       "135273                                  NaN   \n",
       "56175                                   NaN   \n",
       "3206    Creation can have it's side effects   \n",
       "114732                                  NaN   \n",
       "79336                                   NaN   \n",
       "99668                                   NaN   \n",
       "7595                                    NaN   \n",
       "39793                                   NaN   \n",
       "55236                                   NaN   \n",
       "161954                                  NaN   \n",
       "53747                                   NaN   \n",
       "132395                                  NaN   \n",
       "117556                                  NaN   \n",
       "101368                                  NaN   \n",
       "157917                                  NaN   \n",
       "31005                                   NaN   \n",
       "21222                                   NaN   \n",
       "111998                                  NaN   \n",
       "137846                                  NaN   \n",
       "\n",
       "                                                   genres  \\\n",
       "138740                                                NaN   \n",
       "135273                                              Drama   \n",
       "56175                                       Drama, Family   \n",
       "3206        Sci-Fi & Fantasy, Action & Adventure, Mystery   \n",
       "114732                                                NaN   \n",
       "79336                                              Comedy   \n",
       "99668                                         Documentary   \n",
       "7595                                        Drama, Comedy   \n",
       "39793                                         Documentary   \n",
       "55236                                               Drama   \n",
       "161954                                                NaN   \n",
       "53747                                                Kids   \n",
       "132395                                             Comedy   \n",
       "117556                                              Drama   \n",
       "101368                                   Animation, Drama   \n",
       "157917                                                NaN   \n",
       "31005                                  Documentary, Crime   \n",
       "21222   Animation, Action & Adventure, Western, Sci-Fi...   \n",
       "111998                                                NaN   \n",
       "137846                                                NaN   \n",
       "\n",
       "                                            created_by   languages  \\\n",
       "138740                                             NaN         NaN   \n",
       "135273                                             NaN         NaN   \n",
       "56175                                              NaN  ur, ar, hi   \n",
       "3206                                               NaN          en   \n",
       "114732                                             NaN         NaN   \n",
       "79336                                              NaN          de   \n",
       "99668                                              NaN          de   \n",
       "7595                                               NaN          en   \n",
       "39793                                              NaN          en   \n",
       "55236   María Teresa Forero, Diana Álvarez, Omar Romay          es   \n",
       "161954                                             NaN          en   \n",
       "53747                                              NaN         NaN   \n",
       "132395                                             NaN          en   \n",
       "117556                                             NaN         NaN   \n",
       "101368                                             NaN          ja   \n",
       "157917                                             NaN         NaN   \n",
       "31005                                              NaN          en   \n",
       "21222            Miles Luna, Jordan Cwierz, Eddy Rivas          en   \n",
       "111998                                             NaN         NaN   \n",
       "137846                                             NaN         NaN   \n",
       "\n",
       "                       networks  origin_country       spoken_languages  \\\n",
       "138740                      NaN             NaN                    NaN   \n",
       "135273                  Fuji TV              JP                    NaN   \n",
       "56175   StarPlus, MBC Bollywood              IN  اردو, العربية, हिन्दी   \n",
       "3206                Syndication          CA, US                English   \n",
       "114732                      NaN              MY                    NaN   \n",
       "79336               Prime Video              DE                Deutsch   \n",
       "99668                      Arte              FI                Deutsch   \n",
       "7595                  Channel 4              GB                English   \n",
       "39793                   BBC Two              GB                English   \n",
       "55236                  El Nueve              AR                Español   \n",
       "161954              GMA Network              PH                English   \n",
       "53747             HOT VOD Young              IL                    NaN   \n",
       "132395                      NaN             NaN                English   \n",
       "117556                      NaN              EG                    NaN   \n",
       "101368                      NaN              JP                    日本語   \n",
       "157917                      NaN              KR                    NaN   \n",
       "31005   Investigation Discovery              US                English   \n",
       "21222             Rooster Teeth              US                English   \n",
       "111998                      NaN             NaN                    NaN   \n",
       "137846                      NaN             NaN                    NaN   \n",
       "\n",
       "                     production_companies              production_countries  \\\n",
       "138740                                NaN                               NaN   \n",
       "135273                   Kyodo Television                               NaN   \n",
       "56175                 Alchemy Productions                             India   \n",
       "3206                                  NaN  Canada, United States of America   \n",
       "114732                                NaN                          Malaysia   \n",
       "79336                    bildundtonfabrik                           Germany   \n",
       "99668                                 NaN                               NaN   \n",
       "7595                                  NaN                               NaN   \n",
       "39793   Discovery Channel, BBC Manchester                               NaN   \n",
       "55236                                 NaN                         Argentina   \n",
       "161954                                NaN                               NaN   \n",
       "53747                         ערוץ הילדים                            Israel   \n",
       "132395                                NaN                               NaN   \n",
       "117556                                NaN                             Egypt   \n",
       "101368                 MS Pictures, Celeb                             Japan   \n",
       "157917                                NaN                               NaN   \n",
       "31005                                 NaN                               NaN   \n",
       "21222           Rooster Teeth Productions          United States of America   \n",
       "111998                                NaN                               NaN   \n",
       "137846                                NaN                               NaN   \n",
       "\n",
       "       episode_run_time  \n",
       "138740                0  \n",
       "135273                0  \n",
       "56175                22  \n",
       "3206                 44  \n",
       "114732                0  \n",
       "79336                 0  \n",
       "99668                43  \n",
       "7595                 42  \n",
       "39793                50  \n",
       "55236                50  \n",
       "161954               60  \n",
       "53747                 0  \n",
       "132395                0  \n",
       "117556                0  \n",
       "101368               20  \n",
       "157917               25  \n",
       "31005                44  \n",
       "21222                 0  \n",
       "111998                0  \n",
       "137846                0  \n",
       "\n",
       "[20 rows x 29 columns]"
      ]
     },
     "execution_count": 4,
     "metadata": {},
     "output_type": "execute_result"
    }
   ],
   "source": [
    "df.sample(20)"
   ]
  },
  {
   "cell_type": "markdown",
   "id": "c3fbeaea",
   "metadata": {},
   "source": [
    "# Nantalanitás és az értékek átalakitása"
   ]
  },
  {
   "cell_type": "code",
   "execution_count": 5,
   "id": "70479875-ebea-4901-8eea-23966965e210",
   "metadata": {},
   "outputs": [],
   "source": [
    "dummy_columns=[]"
   ]
  },
  {
   "cell_type": "code",
   "execution_count": 6,
   "id": "f26eaa60-5709-498e-8ca5-3e63e6e95a1d",
   "metadata": {},
   "outputs": [],
   "source": [
    "def dummy_creator(df, col ,dummy_columns):\n",
    "    ps_dummies = pd.get_dummies(df[col], prefix = 'Type', drop_first = False)\n",
    "    df = df.merge(ps_dummies, left_index = True, right_index = True, how = 'left')\n",
    "    dummy_columns.append(ps_dummies.columns)\n",
    "    df=df.drop(col, axis=1)\n",
    "\n",
    "    return df, dummy_columns"
   ]
  },
  {
   "cell_type": "code",
   "execution_count": 7,
   "id": "59771837",
   "metadata": {},
   "outputs": [
    {
     "data": {
      "text/plain": [
       "id                           0\n",
       "name                         5\n",
       "number_of_seasons            0\n",
       "number_of_episodes           0\n",
       "original_language            0\n",
       "vote_count                   0\n",
       "vote_average                 0\n",
       "overview                 73323\n",
       "adult                        0\n",
       "backdrop_path            88798\n",
       "first_air_date           31347\n",
       "last_air_date            29498\n",
       "homepage                115110\n",
       "in_production                0\n",
       "original_name                5\n",
       "popularity                   0\n",
       "poster_path              58786\n",
       "type                         0\n",
       "status                       0\n",
       "tagline                 160262\n",
       "genres                   67208\n",
       "created_by              129558\n",
       "languages                57051\n",
       "networks                 69048\n",
       "origin_country           31023\n",
       "spoken_languages         57798\n",
       "production_companies    107039\n",
       "production_countries     89170\n",
       "episode_run_time             0\n",
       "dtype: int64"
      ]
     },
     "execution_count": 7,
     "metadata": {},
     "output_type": "execute_result"
    }
   ],
   "source": [
    "df.isna().sum()"
   ]
  },
  {
   "cell_type": "markdown",
   "id": "1619e3d9",
   "metadata": {},
   "source": [
    "## id"
   ]
  },
  {
   "cell_type": "markdown",
   "id": "3dafbc85",
   "metadata": {
    "jp-MarkdownHeadingCollapsed": true
   },
   "source": [
    "## name"
   ]
  },
  {
   "cell_type": "code",
   "execution_count": 8,
   "id": "891efc58",
   "metadata": {},
   "outputs": [],
   "source": [
    "df=df.dropna(subset='name')"
   ]
  },
  {
   "cell_type": "code",
   "execution_count": 9,
   "id": "253c27fc-6a88-4ce8-910b-cfa2745c4c06",
   "metadata": {},
   "outputs": [
    {
     "data": {
      "text/plain": [
       "id                           0\n",
       "name                         0\n",
       "number_of_seasons            0\n",
       "number_of_episodes           0\n",
       "original_language            0\n",
       "vote_count                   0\n",
       "vote_average                 0\n",
       "overview                 73318\n",
       "adult                        0\n",
       "backdrop_path            88793\n",
       "first_air_date           31345\n",
       "last_air_date            29497\n",
       "homepage                115105\n",
       "in_production                0\n",
       "original_name                0\n",
       "popularity                   0\n",
       "poster_path              58781\n",
       "type                         0\n",
       "status                       0\n",
       "tagline                 160257\n",
       "genres                   67203\n",
       "created_by              129553\n",
       "languages                57046\n",
       "networks                 69043\n",
       "origin_country           31018\n",
       "spoken_languages         57793\n",
       "production_companies    107034\n",
       "production_countries     89165\n",
       "episode_run_time             0\n",
       "dtype: int64"
      ]
     },
     "execution_count": 9,
     "metadata": {},
     "output_type": "execute_result"
    }
   ],
   "source": [
    "df.isna().sum()"
   ]
  },
  {
   "cell_type": "markdown",
   "id": "86a7c01b",
   "metadata": {},
   "source": [
    "## number_of_seasons"
   ]
  },
  {
   "cell_type": "markdown",
   "id": "d8e6dfb2",
   "metadata": {},
   "source": [
    "## number_of_episodes"
   ]
  },
  {
   "cell_type": "markdown",
   "id": "a0ae6254",
   "metadata": {
    "jp-MarkdownHeadingCollapsed": true
   },
   "source": [
    "## original_language"
   ]
  },
  {
   "cell_type": "code",
   "execution_count": 10,
   "id": "0da97341-0821-45cd-8429-669b000eb33f",
   "metadata": {},
   "outputs": [
    {
     "data": {
      "text/plain": [
       "original_language\n",
       "en    75644\n",
       "ja    13850\n",
       "zh    13545\n",
       "ko     7725\n",
       "de     7454\n",
       "      ...  \n",
       "za        1\n",
       "mn        1\n",
       "ti        1\n",
       "sw        1\n",
       "aa        1\n",
       "Name: count, Length: 106, dtype: int64"
      ]
     },
     "execution_count": 10,
     "metadata": {},
     "output_type": "execute_result"
    }
   ],
   "source": [
    "df['original_language'].value_counts() "
   ]
  },
  {
   "cell_type": "code",
   "execution_count": 11,
   "id": "65cb1f08-8a79-4d97-bf99-c8370cacc9d9",
   "metadata": {},
   "outputs": [],
   "source": [
    "def get_language_name(language_code):\n",
    "    try:\n",
    "        return languages.get(part1=language_code).name\n",
    "    except (KeyError, AttributeError):\n",
    "        return \"Unknown\"  # Vagy tetszőleges érték, amit szeretnél az ismeretlen nyelv esetén"
   ]
  },
  {
   "cell_type": "code",
   "execution_count": 12,
   "id": "605a32ac-7b3e-4318-a5e9-e81c624d4d7d",
   "metadata": {},
   "outputs": [],
   "source": [
    "df['OG_language'] = df['original_language'].apply(lambda x: get_language_name(x))"
   ]
  },
  {
   "cell_type": "code",
   "execution_count": 13,
   "id": "f364531a-ca28-4b62-859f-ddd40c1780bc",
   "metadata": {},
   "outputs": [
    {
     "data": {
      "text/plain": [
       "1922"
      ]
     },
     "execution_count": 13,
     "metadata": {},
     "output_type": "execute_result"
    }
   ],
   "source": [
    "len(df[df['OG_language']=='Unknown'])"
   ]
  },
  {
   "cell_type": "code",
   "execution_count": 14,
   "id": "f6c0ba96-6e2b-401c-a062-16958eafcd53",
   "metadata": {},
   "outputs": [],
   "source": [
    "df=df.drop('original_language', axis=1)"
   ]
  },
  {
   "cell_type": "markdown",
   "id": "67b35287",
   "metadata": {},
   "source": [
    "## vote_count"
   ]
  },
  {
   "cell_type": "markdown",
   "id": "28d99a40",
   "metadata": {},
   "source": [
    "## vote_average"
   ]
  },
  {
   "cell_type": "markdown",
   "id": "a9518a1e",
   "metadata": {
    "jp-MarkdownHeadingCollapsed": true
   },
   "source": [
    "## overview"
   ]
  },
  {
   "cell_type": "markdown",
   "id": "04daa4b7-af04-4385-a312-93cf268257ba",
   "metadata": {},
   "source": [
    "## adult"
   ]
  },
  {
   "cell_type": "code",
   "execution_count": 15,
   "id": "96c68403-c194-48f4-b74f-24f71810563f",
   "metadata": {},
   "outputs": [],
   "source": [
    "df['adult'] = df['adult'].astype(int)"
   ]
  },
  {
   "cell_type": "markdown",
   "id": "e3fe574d",
   "metadata": {
    "jp-MarkdownHeadingCollapsed": true
   },
   "source": [
    "## backdrop_path"
   ]
  },
  {
   "cell_type": "code",
   "execution_count": 16,
   "id": "b5179234-c9cd-485c-a219-a1d3f28744af",
   "metadata": {},
   "outputs": [
    {
     "data": {
      "text/plain": [
       "0          /2OMB0ynKlyIenMJWI2Dy9IWT4c.jpg\n",
       "1         /gFZriCkpJYsApPZEF3jhxL4yLzG.jpg\n",
       "2         /2MaumbgBlW1NoPo3ZJO38A6v7OS.jpg\n",
       "3         /x4salpjB11umlUOltfNvSSrjSXm.jpg\n",
       "4         /aDBRtunw49UF4XmqfyNuD9nlYIu.jpg\n",
       "                        ...               \n",
       "165555                                 NaN\n",
       "165556                                 NaN\n",
       "165557                                 NaN\n",
       "165558                                 NaN\n",
       "165559                                 NaN\n",
       "Name: backdrop_path, Length: 165555, dtype: object"
      ]
     },
     "execution_count": 16,
     "metadata": {},
     "output_type": "execute_result"
    }
   ],
   "source": [
    "df['backdrop_path']"
   ]
  },
  {
   "cell_type": "code",
   "execution_count": 17,
   "id": "37f46849-0624-4447-99d1-acd379195220",
   "metadata": {},
   "outputs": [],
   "source": [
    "df=df.drop('backdrop_path', axis=1)"
   ]
  },
  {
   "cell_type": "markdown",
   "id": "4fc9426f",
   "metadata": {
    "jp-MarkdownHeadingCollapsed": true
   },
   "source": [
    "## first_air_date"
   ]
  },
  {
   "cell_type": "code",
   "execution_count": 18,
   "id": "474d5bc5-8854-41ce-a129-ccae1e7a602a",
   "metadata": {},
   "outputs": [],
   "source": [
    "df['first_air_date'] = pd.to_datetime(df['first_air_date'], errors='coerce')"
   ]
  },
  {
   "cell_type": "code",
   "execution_count": 19,
   "id": "3d499105-fffb-4a2c-83f0-5adeba36d74b",
   "metadata": {},
   "outputs": [
    {
     "data": {
      "text/plain": [
       "Timestamp('1917-01-09 00:00:00')"
      ]
     },
     "execution_count": 19,
     "metadata": {},
     "output_type": "execute_result"
    }
   ],
   "source": [
    "df['first_air_date'].min()"
   ]
  },
  {
   "cell_type": "code",
   "execution_count": 20,
   "id": "c89d8c1f-c325-45d4-bc38-92fbf966e0e7",
   "metadata": {},
   "outputs": [],
   "source": [
    "def_date = pd.to_datetime('1888-10-14')\n",
    "\n",
    "df['first_air_date'].fillna(def_date, inplace=True)"
   ]
  },
  {
   "cell_type": "code",
   "execution_count": 21,
   "id": "300cbb89-92d1-4083-9312-269e26d5117e",
   "metadata": {},
   "outputs": [
    {
     "data": {
      "text/plain": [
       "<Axes: >"
      ]
     },
     "execution_count": 21,
     "metadata": {},
     "output_type": "execute_result"
    },
    {
     "data": {
      "image/png": "[encoded data removed]",
      "text/plain": [
       "<Figure size 640x480 with 1 Axes>"
      ]
     },
     "metadata": {},
     "output_type": "display_data"
    }
   ],
   "source": [
    "df['first_air_date'].hist(bins=100)"
   ]
  },
  {
   "cell_type": "markdown",
   "id": "80b5d740",
   "metadata": {
    "jp-MarkdownHeadingCollapsed": true
   },
   "source": [
    "## last_air_date"
   ]
  },
  {
   "cell_type": "code",
   "execution_count": 22,
   "id": "80ec3bc9-759f-4847-a97a-2c2af3a41d80",
   "metadata": {},
   "outputs": [],
   "source": [
    "df['last_air_date'] = pd.to_datetime(df['last_air_date'], errors='coerce')"
   ]
  },
  {
   "cell_type": "code",
   "execution_count": 23,
   "id": "5feb05ee-f3cb-4d1c-b008-4e219862d4b9",
   "metadata": {},
   "outputs": [
    {
     "data": {
      "text/plain": [
       "Timestamp('1917-01-09 00:00:00')"
      ]
     },
     "execution_count": 23,
     "metadata": {},
     "output_type": "execute_result"
    }
   ],
   "source": [
    "df['last_air_date'].min()"
   ]
  },
  {
   "cell_type": "code",
   "execution_count": 24,
   "id": "d63f4b2e-489e-451e-b980-501685f98292",
   "metadata": {},
   "outputs": [],
   "source": [
    "def_date = pd.to_datetime('1888-10-14')\n",
    "\n",
    "df['last_air_date'].fillna(def_date, inplace=True)"
   ]
  },
  {
   "cell_type": "code",
   "execution_count": 25,
   "id": "41d2ac73-882c-4ea3-9240-a3e3cc3f41bf",
   "metadata": {},
   "outputs": [
    {
     "data": {
      "text/plain": [
       "<Axes: >"
      ]
     },
     "execution_count": 25,
     "metadata": {},
     "output_type": "execute_result"
    },
    {
     "data": {
      "image/png": "[encoded data removed]",
      "text/plain": [
       "<Figure size 640x480 with 1 Axes>"
      ]
     },
     "metadata": {},
     "output_type": "display_data"
    }
   ],
   "source": [
    "df['first_air_date'].hist(bins=100)"
   ]
  },
  {
   "cell_type": "markdown",
   "id": "afe1500c",
   "metadata": {},
   "source": [
    "## homepage"
   ]
  },
  {
   "cell_type": "code",
   "execution_count": 26,
   "id": "41fbd518-e7d7-4877-8c6c-7a3ecc40492d",
   "metadata": {},
   "outputs": [],
   "source": [
    "df['has_homepage'] = df['homepage'].apply(lambda x: 0 if pd.isna(x) else 1)"
   ]
  },
  {
   "cell_type": "code",
   "execution_count": 27,
   "id": "779ac976-9504-4634-8650-029e4e11a085",
   "metadata": {},
   "outputs": [],
   "source": [
    "df=df.drop('homepage', axis=1)"
   ]
  },
  {
   "cell_type": "markdown",
   "id": "a667c125",
   "metadata": {},
   "source": [
    "## in_production"
   ]
  },
  {
   "cell_type": "code",
   "execution_count": 28,
   "id": "991ee0d0-0255-43c3-9a69-21281a9d28dc",
   "metadata": {},
   "outputs": [],
   "source": [
    "df['in_production'] = df['in_production'].astype(int)"
   ]
  },
  {
   "cell_type": "markdown",
   "id": "e710d33f",
   "metadata": {},
   "source": [
    "## original_name"
   ]
  },
  {
   "cell_type": "markdown",
   "id": "0dff82b1",
   "metadata": {},
   "source": [
    "## popularity"
   ]
  },
  {
   "cell_type": "code",
   "execution_count": 29,
   "id": "cd4141da-7d21-4061-ad60-43623e89462f",
   "metadata": {},
   "outputs": [
    {
     "data": {
      "text/plain": [
       "<Axes: >"
      ]
     },
     "execution_count": 29,
     "metadata": {},
     "output_type": "execute_result"
    },
    {
     "data": {
      "image/png": "[encoded data removed]",
      "text/plain": [
       "<Figure size 640x480 with 1 Axes>"
      ]
     },
     "metadata": {},
     "output_type": "display_data"
    }
   ],
   "source": [
    "df['popularity'].hist(bins=100, log=True)"
   ]
  },
  {
   "cell_type": "markdown",
   "id": "e5c157ea",
   "metadata": {},
   "source": [
    "## poster_path"
   ]
  },
  {
   "cell_type": "code",
   "execution_count": 30,
   "id": "203d6e22-9f02-467e-98e0-e84d675df931",
   "metadata": {},
   "outputs": [],
   "source": [
    "df=df.drop('poster_path', axis=1)"
   ]
  },
  {
   "cell_type": "markdown",
   "id": "6381f5d4",
   "metadata": {},
   "source": [
    "## type"
   ]
  },
  {
   "cell_type": "code",
   "execution_count": 31,
   "id": "ec0117cd-9ff6-4a23-8d35-030bff4b1b64",
   "metadata": {},
   "outputs": [
    {
     "data": {
      "text/plain": [
       "type\n",
       "Scripted       127041\n",
       "Documentary     13452\n",
       "Miniseries      10639\n",
       "Reality          9511\n",
       "Talk Show        2947\n",
       "Video            1361\n",
       "News              604\n",
       "Name: count, dtype: int64"
      ]
     },
     "execution_count": 31,
     "metadata": {},
     "output_type": "execute_result"
    }
   ],
   "source": [
    "df['type'].value_counts()"
   ]
  },
  {
   "cell_type": "code",
   "execution_count": 32,
   "id": "9a501a77-f097-467e-bcc4-e1a447ed87f5",
   "metadata": {},
   "outputs": [],
   "source": [
    "df, dummy_columns=dummy_creator(df, 'type', dummy_columns)"
   ]
  },
  {
   "cell_type": "code",
   "execution_count": 68,
   "id": "af4aa9b8-00ea-44ae-98a0-4e9e659c31a4",
   "metadata": {},
   "outputs": [
    {
     "data": {
      "text/html": [
       "<div>\n",
       "<style scoped>\n",
       "    .dataframe tbody tr th:only-of-type {\n",
       "        vertical-align: middle;\n",
       "    }\n",
       "\n",
       "    .dataframe tbody tr th {\n",
       "        vertical-align: top;\n",
       "    }\n",
       "\n",
       "    .dataframe thead th {\n",
       "        text-align: right;\n",
       "    }\n",
       "</style>\n",
       "<table border=\"1\" class=\"dataframe\">\n",
       "  <thead>\n",
       "    <tr style=\"text-align: right;\">\n",
       "      <th></th>\n",
       "      <th>id</th>\n",
       "      <th>name</th>\n",
       "      <th>number_of_seasons</th>\n",
       "      <th>number_of_episodes</th>\n",
       "      <th>vote_count</th>\n",
       "      <th>vote_average</th>\n",
       "      <th>adult</th>\n",
       "      <th>first_air_date</th>\n",
       "      <th>last_air_date</th>\n",
       "      <th>in_production</th>\n",
       "      <th>...</th>\n",
       "      <th>episode_run_time</th>\n",
       "      <th>OG_language</th>\n",
       "      <th>overview_flag</th>\n",
       "      <th>has_homepage</th>\n",
       "      <th>Type_Miniseries</th>\n",
       "      <th>Type_News</th>\n",
       "      <th>Type_Reality</th>\n",
       "      <th>Type_Scripted</th>\n",
       "      <th>Type_Talk Show</th>\n",
       "      <th>Type_Video</th>\n",
       "    </tr>\n",
       "  </thead>\n",
       "  <tbody>\n",
       "    <tr>\n",
       "      <th>55994</th>\n",
       "      <td>226218</td>\n",
       "      <td>Shaka iLembe</td>\n",
       "      <td>1</td>\n",
       "      <td>12</td>\n",
       "      <td>1</td>\n",
       "      <td>10.0</td>\n",
       "      <td>0</td>\n",
       "      <td>2023-06-18</td>\n",
       "      <td>2023-08-20</td>\n",
       "      <td>1</td>\n",
       "      <td>...</td>\n",
       "      <td>0</td>\n",
       "      <td>Zulu</td>\n",
       "      <td>1</td>\n",
       "      <td>1</td>\n",
       "      <td>False</td>\n",
       "      <td>False</td>\n",
       "      <td>False</td>\n",
       "      <td>True</td>\n",
       "      <td>False</td>\n",
       "      <td>False</td>\n",
       "    </tr>\n",
       "    <tr>\n",
       "      <th>147905</th>\n",
       "      <td>36804</td>\n",
       "      <td>Dear Woman</td>\n",
       "      <td>1</td>\n",
       "      <td>9</td>\n",
       "      <td>0</td>\n",
       "      <td>0.0</td>\n",
       "      <td>0</td>\n",
       "      <td>1996-10-13</td>\n",
       "      <td>1996-12-08</td>\n",
       "      <td>0</td>\n",
       "      <td>...</td>\n",
       "      <td>60</td>\n",
       "      <td>Japanese</td>\n",
       "      <td>0</td>\n",
       "      <td>0</td>\n",
       "      <td>False</td>\n",
       "      <td>False</td>\n",
       "      <td>False</td>\n",
       "      <td>True</td>\n",
       "      <td>False</td>\n",
       "      <td>False</td>\n",
       "    </tr>\n",
       "    <tr>\n",
       "      <th>70589</th>\n",
       "      <td>213874</td>\n",
       "      <td>Shin Onna Kenji Kasumi Yuko</td>\n",
       "      <td>1</td>\n",
       "      <td>20</td>\n",
       "      <td>0</td>\n",
       "      <td>0.0</td>\n",
       "      <td>0</td>\n",
       "      <td>1994-05-03</td>\n",
       "      <td>2003-01-14</td>\n",
       "      <td>1</td>\n",
       "      <td>...</td>\n",
       "      <td>0</td>\n",
       "      <td>Japanese</td>\n",
       "      <td>1</td>\n",
       "      <td>0</td>\n",
       "      <td>False</td>\n",
       "      <td>False</td>\n",
       "      <td>False</td>\n",
       "      <td>True</td>\n",
       "      <td>False</td>\n",
       "      <td>False</td>\n",
       "    </tr>\n",
       "    <tr>\n",
       "      <th>22112</th>\n",
       "      <td>35772</td>\n",
       "      <td>Tree of Heaven</td>\n",
       "      <td>1</td>\n",
       "      <td>10</td>\n",
       "      <td>3</td>\n",
       "      <td>5.7</td>\n",
       "      <td>0</td>\n",
       "      <td>2006-02-08</td>\n",
       "      <td>2006-03-16</td>\n",
       "      <td>0</td>\n",
       "      <td>...</td>\n",
       "      <td>60</td>\n",
       "      <td>Korean</td>\n",
       "      <td>1</td>\n",
       "      <td>1</td>\n",
       "      <td>False</td>\n",
       "      <td>False</td>\n",
       "      <td>False</td>\n",
       "      <td>True</td>\n",
       "      <td>False</td>\n",
       "      <td>False</td>\n",
       "    </tr>\n",
       "    <tr>\n",
       "      <th>52883</th>\n",
       "      <td>120145</td>\n",
       "      <td>LOU !</td>\n",
       "      <td>1</td>\n",
       "      <td>52</td>\n",
       "      <td>1</td>\n",
       "      <td>0.0</td>\n",
       "      <td>0</td>\n",
       "      <td>2009-04-05</td>\n",
       "      <td>2009-12-27</td>\n",
       "      <td>1</td>\n",
       "      <td>...</td>\n",
       "      <td>12</td>\n",
       "      <td>French</td>\n",
       "      <td>0</td>\n",
       "      <td>0</td>\n",
       "      <td>False</td>\n",
       "      <td>False</td>\n",
       "      <td>False</td>\n",
       "      <td>True</td>\n",
       "      <td>False</td>\n",
       "      <td>False</td>\n",
       "    </tr>\n",
       "    <tr>\n",
       "      <th>90466</th>\n",
       "      <td>131661</td>\n",
       "      <td>Amish: Out of Order</td>\n",
       "      <td>1</td>\n",
       "      <td>10</td>\n",
       "      <td>0</td>\n",
       "      <td>0.0</td>\n",
       "      <td>0</td>\n",
       "      <td>2012-04-17</td>\n",
       "      <td>2012-06-19</td>\n",
       "      <td>0</td>\n",
       "      <td>...</td>\n",
       "      <td>0</td>\n",
       "      <td>English</td>\n",
       "      <td>1</td>\n",
       "      <td>0</td>\n",
       "      <td>False</td>\n",
       "      <td>False</td>\n",
       "      <td>False</td>\n",
       "      <td>False</td>\n",
       "      <td>False</td>\n",
       "      <td>False</td>\n",
       "    </tr>\n",
       "    <tr>\n",
       "      <th>110421</th>\n",
       "      <td>137308</td>\n",
       "      <td>Chinapidia</td>\n",
       "      <td>1</td>\n",
       "      <td>1</td>\n",
       "      <td>0</td>\n",
       "      <td>0.0</td>\n",
       "      <td>0</td>\n",
       "      <td>2020-07-26</td>\n",
       "      <td>2020-07-26</td>\n",
       "      <td>1</td>\n",
       "      <td>...</td>\n",
       "      <td>60</td>\n",
       "      <td>Korean</td>\n",
       "      <td>0</td>\n",
       "      <td>0</td>\n",
       "      <td>False</td>\n",
       "      <td>False</td>\n",
       "      <td>False</td>\n",
       "      <td>True</td>\n",
       "      <td>False</td>\n",
       "      <td>False</td>\n",
       "    </tr>\n",
       "    <tr>\n",
       "      <th>41997</th>\n",
       "      <td>129601</td>\n",
       "      <td>The Cheap Seats</td>\n",
       "      <td>3</td>\n",
       "      <td>71</td>\n",
       "      <td>1</td>\n",
       "      <td>9.0</td>\n",
       "      <td>0</td>\n",
       "      <td>2021-07-20</td>\n",
       "      <td>2023-10-03</td>\n",
       "      <td>1</td>\n",
       "      <td>...</td>\n",
       "      <td>0</td>\n",
       "      <td>English</td>\n",
       "      <td>1</td>\n",
       "      <td>1</td>\n",
       "      <td>False</td>\n",
       "      <td>False</td>\n",
       "      <td>False</td>\n",
       "      <td>True</td>\n",
       "      <td>False</td>\n",
       "      <td>False</td>\n",
       "    </tr>\n",
       "    <tr>\n",
       "      <th>145921</th>\n",
       "      <td>134708</td>\n",
       "      <td>Railway Wind and Cloud</td>\n",
       "      <td>1</td>\n",
       "      <td>34</td>\n",
       "      <td>0</td>\n",
       "      <td>0.0</td>\n",
       "      <td>0</td>\n",
       "      <td>2021-09-16</td>\n",
       "      <td>2021-09-24</td>\n",
       "      <td>0</td>\n",
       "      <td>...</td>\n",
       "      <td>45</td>\n",
       "      <td>Chinese</td>\n",
       "      <td>0</td>\n",
       "      <td>0</td>\n",
       "      <td>False</td>\n",
       "      <td>False</td>\n",
       "      <td>False</td>\n",
       "      <td>True</td>\n",
       "      <td>False</td>\n",
       "      <td>False</td>\n",
       "    </tr>\n",
       "    <tr>\n",
       "      <th>37378</th>\n",
       "      <td>218874</td>\n",
       "      <td>Krümelmonsters Foodie Truck mit Steffen Henssler</td>\n",
       "      <td>1</td>\n",
       "      <td>13</td>\n",
       "      <td>1</td>\n",
       "      <td>7.0</td>\n",
       "      <td>0</td>\n",
       "      <td>2023-01-22</td>\n",
       "      <td>2023-04-16</td>\n",
       "      <td>1</td>\n",
       "      <td>...</td>\n",
       "      <td>0</td>\n",
       "      <td>German</td>\n",
       "      <td>0</td>\n",
       "      <td>0</td>\n",
       "      <td>False</td>\n",
       "      <td>False</td>\n",
       "      <td>False</td>\n",
       "      <td>True</td>\n",
       "      <td>False</td>\n",
       "      <td>False</td>\n",
       "    </tr>\n",
       "  </tbody>\n",
       "</table>\n",
       "<p>10 rows × 32 columns</p>\n",
       "</div>"
      ],
      "text/plain": [
       "            id                                              name  \\\n",
       "55994   226218                                      Shaka iLembe   \n",
       "147905   36804                                        Dear Woman   \n",
       "70589   213874                       Shin Onna Kenji Kasumi Yuko   \n",
       "22112    35772                                    Tree of Heaven   \n",
       "52883   120145                                             LOU !   \n",
       "90466   131661                               Amish: Out of Order   \n",
       "110421  137308                                        Chinapidia   \n",
       "41997   129601                                   The Cheap Seats   \n",
       "145921  134708                            Railway Wind and Cloud   \n",
       "37378   218874  Krümelmonsters Foodie Truck mit Steffen Henssler   \n",
       "\n",
       "        number_of_seasons  number_of_episodes  vote_count  vote_average  \\\n",
       "55994                   1                  12           1          10.0   \n",
       "147905                  1                   9           0           0.0   \n",
       "70589                   1                  20           0           0.0   \n",
       "22112                   1                  10           3           5.7   \n",
       "52883                   1                  52           1           0.0   \n",
       "90466                   1                  10           0           0.0   \n",
       "110421                  1                   1           0           0.0   \n",
       "41997                   3                  71           1           9.0   \n",
       "145921                  1                  34           0           0.0   \n",
       "37378                   1                  13           1           7.0   \n",
       "\n",
       "        adult first_air_date last_air_date  in_production  ...  \\\n",
       "55994       0     2023-06-18    2023-08-20              1  ...   \n",
       "147905      0     1996-10-13    1996-12-08              0  ...   \n",
       "70589       0     1994-05-03    2003-01-14              1  ...   \n",
       "22112       0     2006-02-08    2006-03-16              0  ...   \n",
       "52883       0     2009-04-05    2009-12-27              1  ...   \n",
       "90466       0     2012-04-17    2012-06-19              0  ...   \n",
       "110421      0     2020-07-26    2020-07-26              1  ...   \n",
       "41997       0     2021-07-20    2023-10-03              1  ...   \n",
       "145921      0     2021-09-16    2021-09-24              0  ...   \n",
       "37378       0     2023-01-22    2023-04-16              1  ...   \n",
       "\n",
       "       episode_run_time  OG_language overview_flag has_homepage  \\\n",
       "55994                 0         Zulu             1            1   \n",
       "147905               60     Japanese             0            0   \n",
       "70589                 0     Japanese             1            0   \n",
       "22112                60       Korean             1            1   \n",
       "52883                12       French             0            0   \n",
       "90466                 0      English             1            0   \n",
       "110421               60       Korean             0            0   \n",
       "41997                 0      English             1            1   \n",
       "145921               45      Chinese             0            0   \n",
       "37378                 0       German             0            0   \n",
       "\n",
       "       Type_Miniseries Type_News Type_Reality Type_Scripted Type_Talk Show  \\\n",
       "55994            False     False        False          True          False   \n",
       "147905           False     False        False          True          False   \n",
       "70589            False     False        False          True          False   \n",
       "22112            False     False        False          True          False   \n",
       "52883            False     False        False          True          False   \n",
       "90466            False     False        False         False          False   \n",
       "110421           False     False        False          True          False   \n",
       "41997            False     False        False          True          False   \n",
       "145921           False     False        False          True          False   \n",
       "37378            False     False        False          True          False   \n",
       "\n",
       "       Type_Video  \n",
       "55994       False  \n",
       "147905      False  \n",
       "70589       False  \n",
       "22112       False  \n",
       "52883       False  \n",
       "90466       False  \n",
       "110421      False  \n",
       "41997       False  \n",
       "145921      False  \n",
       "37378       False  \n",
       "\n",
       "[10 rows x 32 columns]"
      ]
     },
     "execution_count": 68,
     "metadata": {},
     "output_type": "execute_result"
    }
   ],
   "source": [
    "df.sample(10)"
   ]
  },
  {
   "cell_type": "markdown",
   "id": "2989d182",
   "metadata": {},
   "source": [
    "## status"
   ]
  },
  {
   "cell_type": "code",
   "execution_count": 73,
   "id": "731c8990-15a9-4ae3-bf3a-a02905604f66",
   "metadata": {},
   "outputs": [
    {
     "data": {
      "text/plain": [
       "status\n",
       "Ended               92507\n",
       "Returning Series    65435\n",
       "Canceled             4562\n",
       "In Production        2229\n",
       "Planned               595\n",
       "Pilot                 232\n",
       "Name: count, dtype: int64"
      ]
     },
     "execution_count": 73,
     "metadata": {},
     "output_type": "execute_result"
    }
   ],
   "source": [
    "df['status'].value_counts()"
   ]
  },
  {
   "cell_type": "code",
   "execution_count": 33,
   "id": "d5cd8749-1d9d-4040-8d3d-175e9da8cfdf",
   "metadata": {},
   "outputs": [],
   "source": [
    "df, dummy_columns=dummy_creator(df, 'status', dummy_columns)"
   ]
  },
  {
   "cell_type": "code",
   "execution_count": null,
   "id": "dbffa41e-654c-4ec8-81fc-faf237eb188e",
   "metadata": {},
   "outputs": [],
   "source": []
  },
  {
   "cell_type": "markdown",
   "id": "b74d8560",
   "metadata": {},
   "source": [
    "## tagline"
   ]
  },
  {
   "cell_type": "code",
   "execution_count": 34,
   "id": "6af3ff6b-2357-492e-936e-8b15802a772b",
   "metadata": {},
   "outputs": [],
   "source": [
    "df=df.drop('tagline', axis=1)"
   ]
  },
  {
   "cell_type": "markdown",
   "id": "330d6a76",
   "metadata": {},
   "source": [
    "## genres"
   ]
  },
  {
   "cell_type": "code",
   "execution_count": 36,
   "id": "2b42e645-eb4d-4fe3-bcfc-cd16c7d7f20a",
   "metadata": {},
   "outputs": [
    {
     "name": "stdout",
     "output_type": "stream",
     "text": [
      "genres\n",
      "Documentary                                                                    17274\n",
      "Drama                                                                          15953\n",
      "Comedy                                                                         10200\n",
      "Reality                                                                         7857\n",
      "Animation                                                                       3296\n",
      "                                                                               ...  \n",
      "Animation, Action & Adventure, Drama, Comedy                                       1\n",
      "Sci-Fi & Fantasy, Comedy, Reality, Action & Adventure                              1\n",
      "Drama, Animation, Comedy, Action & Adventure                                       1\n",
      "Animation, Action & Adventure, Comedy, Action & Adventure, Sci-Fi & Fantasy        1\n",
      "Comedy, Documentary, Sci-Fi & Fantasy, Mystery                                     1\n",
      "Name: count, Length: 2218, dtype: int64\n"
     ]
    }
   ],
   "source": [
    "print(df['genres'].value_counts())"
   ]
  },
  {
   "cell_type": "markdown",
   "id": "4ca8d90f",
   "metadata": {},
   "source": [
    "## created_by"
   ]
  },
  {
   "cell_type": "markdown",
   "id": "75c23c57",
   "metadata": {},
   "source": [
    "## languages"
   ]
  },
  {
   "cell_type": "markdown",
   "id": "ee5859ad",
   "metadata": {},
   "source": [
    "## networks"
   ]
  },
  {
   "cell_type": "markdown",
   "id": "f8f28752",
   "metadata": {},
   "source": [
    "## origin_country"
   ]
  },
  {
   "cell_type": "markdown",
   "id": "4dd323dc",
   "metadata": {},
   "source": [
    "## spoken_languages"
   ]
  },
  {
   "cell_type": "markdown",
   "id": "1edafef6",
   "metadata": {},
   "source": [
    "## production_companies"
   ]
  },
  {
   "cell_type": "markdown",
   "id": "a2e4ce3c",
   "metadata": {},
   "source": [
    "## production_countries"
   ]
  },
  {
   "cell_type": "markdown",
   "id": "1da960e5",
   "metadata": {},
   "source": [
    "## episode_run_time "
   ]
  },
  {
   "cell_type": "code",
   "execution_count": null,
   "id": "6909343d",
   "metadata": {},
   "outputs": [],
   "source": []
  }
 ],
 "metadata": {
  "kernelspec": {
   "display_name": "Python 3 (ipykernel)",
   "language": "python",
   "name": "python3"
  },
  "language_info": {
   "codemirror_mode": {
    "name": "ipython",
    "version": 3
   },
   "file_extension": ".py",
   "mimetype": "text/x-python",
   "name": "python",
   "nbconvert_exporter": "python",
   "pygments_lexer": "ipython3",
   "version": "3.12.0"
  }
 },
 "nbformat": 4,
 "nbformat_minor": 5
}
